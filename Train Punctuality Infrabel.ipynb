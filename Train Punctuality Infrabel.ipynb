{
 "cells": [
  {
   "cell_type": "markdown",
   "metadata": {},
   "source": [
    "##  Infrabel Open Data platform\n",
    "\n",
    "Raw Punctuality data from one day of train activity, 06/06/2019"
   ]
  },
  {
   "cell_type": "code",
   "execution_count": 2,
   "metadata": {},
   "outputs": [],
   "source": [
    "import pandas as pd\n",
    "import numpy as np\n",
    "import seaborn as sns\n",
    "\n",
    "from datetime import datetime\n",
    "from datetime import timedelta\n",
    "\n",
    "from scipy.stats import binom\n",
    "\n",
    "import matplotlib.pyplot as plt\n",
    "FIGSIZE = (12.0, 5.0)\n",
    "plt.rcParams['figure.figsize'] = (12.0, 5.0)\n",
    "\n",
    "pd.options.display.max_rows = 55\n",
    "pd.options.display.max_colwidth = 500"
   ]
  },
  {
   "cell_type": "code",
   "execution_count": 3,
   "metadata": {},
   "outputs": [
    {
     "data": {
      "text/html": [
       "<div>\n",
       "<style scoped>\n",
       "    .dataframe tbody tr th:only-of-type {\n",
       "        vertical-align: middle;\n",
       "    }\n",
       "\n",
       "    .dataframe tbody tr th {\n",
       "        vertical-align: top;\n",
       "    }\n",
       "\n",
       "    .dataframe thead th {\n",
       "        text-align: right;\n",
       "    }\n",
       "</style>\n",
       "<table border=\"1\" class=\"dataframe\">\n",
       "  <thead>\n",
       "    <tr style=\"text-align: right;\">\n",
       "      <th></th>\n",
       "      <th>Date de départ</th>\n",
       "      <th>Numéro du train</th>\n",
       "      <th>Relation</th>\n",
       "      <th>Opérateur</th>\n",
       "      <th>Ligne de départ</th>\n",
       "      <th>Heure réelle d'arrivée</th>\n",
       "      <th>Heure réelle de départ</th>\n",
       "      <th>Heure prévue d'arrivée</th>\n",
       "      <th>Heure prévue de départ</th>\n",
       "      <th>Retard à l'arrivée</th>\n",
       "      <th>Retard au départ</th>\n",
       "      <th>Direction de la relation</th>\n",
       "      <th>Nom du point d'arrêt</th>\n",
       "      <th>Ligne à l'arrivée</th>\n",
       "      <th>Date prévue d'arrivée</th>\n",
       "      <th>Date prévue de départ</th>\n",
       "      <th>Date réelle d'arrivée</th>\n",
       "      <th>Date réelle de départ</th>\n",
       "    </tr>\n",
       "  </thead>\n",
       "  <tbody>\n",
       "    <tr>\n",
       "      <th>0</th>\n",
       "      <td>2019-06-06</td>\n",
       "      <td>115</td>\n",
       "      <td>IC 33</td>\n",
       "      <td>SNCB/NMBS</td>\n",
       "      <td>42</td>\n",
       "      <td>15:14:33</td>\n",
       "      <td>15:14:33</td>\n",
       "      <td>15:12:00</td>\n",
       "      <td>15:12:00</td>\n",
       "      <td>153.0</td>\n",
       "      <td>153.0</td>\n",
       "      <td>IC 33: LUXEMBOURG -&gt; LIERS</td>\n",
       "      <td>STOUMONT</td>\n",
       "      <td>42</td>\n",
       "      <td>2019-06-06</td>\n",
       "      <td>2019-06-06</td>\n",
       "      <td>2019-06-06</td>\n",
       "      <td>2019-06-06</td>\n",
       "    </tr>\n",
       "    <tr>\n",
       "      <th>1</th>\n",
       "      <td>2019-06-06</td>\n",
       "      <td>115</td>\n",
       "      <td>IC 33</td>\n",
       "      <td>SNCB/NMBS</td>\n",
       "      <td>42</td>\n",
       "      <td>15:23:48</td>\n",
       "      <td>15:24:48</td>\n",
       "      <td>15:22:00</td>\n",
       "      <td>15:23:00</td>\n",
       "      <td>108.0</td>\n",
       "      <td>108.0</td>\n",
       "      <td>IC 33: LUXEMBOURG -&gt; LIERS</td>\n",
       "      <td>AYWAILLE</td>\n",
       "      <td>42</td>\n",
       "      <td>2019-06-06</td>\n",
       "      <td>2019-06-06</td>\n",
       "      <td>2019-06-06</td>\n",
       "      <td>2019-06-06</td>\n",
       "    </tr>\n",
       "  </tbody>\n",
       "</table>\n",
       "</div>"
      ],
      "text/plain": [
       "  Date de départ  Numéro du train Relation  Opérateur Ligne de départ  \\\n",
       "0     2019-06-06              115    IC 33  SNCB/NMBS              42   \n",
       "1     2019-06-06              115    IC 33  SNCB/NMBS              42   \n",
       "\n",
       "  Heure réelle d'arrivée Heure réelle de départ Heure prévue d'arrivée  \\\n",
       "0               15:14:33               15:14:33               15:12:00   \n",
       "1               15:23:48               15:24:48               15:22:00   \n",
       "\n",
       "  Heure prévue de départ  Retard à l'arrivée  Retard au départ  \\\n",
       "0               15:12:00               153.0             153.0   \n",
       "1               15:23:00               108.0             108.0   \n",
       "\n",
       "     Direction de la relation Nom du point d'arrêt Ligne à l'arrivée  \\\n",
       "0  IC 33: LUXEMBOURG -> LIERS             STOUMONT                42   \n",
       "1  IC 33: LUXEMBOURG -> LIERS             AYWAILLE                42   \n",
       "\n",
       "  Date prévue d'arrivée Date prévue de départ Date réelle d'arrivée  \\\n",
       "0            2019-06-06            2019-06-06            2019-06-06   \n",
       "1            2019-06-06            2019-06-06            2019-06-06   \n",
       "\n",
       "  Date réelle de départ  \n",
       "0            2019-06-06  \n",
       "1            2019-06-06  "
      ]
     },
     "execution_count": 3,
     "metadata": {},
     "output_type": "execute_result"
    }
   ],
   "source": [
    "#French file\n",
    "point = pd.read_csv('data_raw_punctuality_xlsx.csv', sep=';')\n",
    "\n",
    "point.head(2)"
   ]
  },
  {
   "cell_type": "code",
   "execution_count": 4,
   "metadata": {},
   "outputs": [
    {
     "data": {
      "text/html": [
       "<div>\n",
       "<style scoped>\n",
       "    .dataframe tbody tr th:only-of-type {\n",
       "        vertical-align: middle;\n",
       "    }\n",
       "\n",
       "    .dataframe tbody tr th {\n",
       "        vertical-align: top;\n",
       "    }\n",
       "\n",
       "    .dataframe thead th {\n",
       "        text-align: right;\n",
       "    }\n",
       "</style>\n",
       "<table border=\"1\" class=\"dataframe\">\n",
       "  <thead>\n",
       "    <tr style=\"text-align: right;\">\n",
       "      <th></th>\n",
       "      <th>Date van vertrek</th>\n",
       "      <th>Treinnummer</th>\n",
       "      <th>Relatie</th>\n",
       "      <th>Spoorwegoperatoren</th>\n",
       "      <th>Spoorlijn van vertrek</th>\n",
       "      <th>Uur van reële aankomst</th>\n",
       "      <th>Uur van reële vertrek</th>\n",
       "      <th>Uur van geplande aankomst</th>\n",
       "      <th>Uur van geplande vertrek</th>\n",
       "      <th>Vertraging bij aankomst</th>\n",
       "      <th>Vertraging bij vertrek</th>\n",
       "      <th>Richting van de relatie</th>\n",
       "      <th>Naam van de halte</th>\n",
       "      <th>Spoorlijn van aankomst</th>\n",
       "      <th>Datum van geplande aankomst</th>\n",
       "      <th>Datum van geplande vertrek</th>\n",
       "      <th>Datum van reële aankomst</th>\n",
       "      <th>Datum van reële vertrek</th>\n",
       "    </tr>\n",
       "  </thead>\n",
       "  <tbody>\n",
       "    <tr>\n",
       "      <th>0</th>\n",
       "      <td>2019-06-13</td>\n",
       "      <td>115</td>\n",
       "      <td>IC 33</td>\n",
       "      <td>SNCB/NMBS</td>\n",
       "      <td>34</td>\n",
       "      <td>16:08:02</td>\n",
       "      <td>16:08:43</td>\n",
       "      <td>16:08:00</td>\n",
       "      <td>16:09:00</td>\n",
       "      <td>2.0</td>\n",
       "      <td>-17.0</td>\n",
       "      <td>IC 33: LUXEMBOURG -&gt; LIERS</td>\n",
       "      <td>LIEGE-SAINT-LAMBERT</td>\n",
       "      <td>34</td>\n",
       "      <td>2019-06-13 00:00:00</td>\n",
       "      <td>2019-06-13</td>\n",
       "      <td>2019-06-13</td>\n",
       "      <td>2019-06-13</td>\n",
       "    </tr>\n",
       "    <tr>\n",
       "      <th>1</th>\n",
       "      <td>2019-06-13</td>\n",
       "      <td>1569</td>\n",
       "      <td>L B6</td>\n",
       "      <td>SNCB/NMBS</td>\n",
       "      <td>90</td>\n",
       "      <td>19:56:36</td>\n",
       "      <td>19:57:54</td>\n",
       "      <td>19:55:00</td>\n",
       "      <td>19:56:00</td>\n",
       "      <td>96.0</td>\n",
       "      <td>114.0</td>\n",
       "      <td>L B6: AALST -&gt; SCHAARBEEK</td>\n",
       "      <td>DENDERLEEUW</td>\n",
       "      <td>50</td>\n",
       "      <td>2019-06-13 00:00:00</td>\n",
       "      <td>2019-06-13</td>\n",
       "      <td>2019-06-13</td>\n",
       "      <td>2019-06-13</td>\n",
       "    </tr>\n",
       "  </tbody>\n",
       "</table>\n",
       "</div>"
      ],
      "text/plain": [
       "  Date van vertrek  Treinnummer Relatie Spoorwegoperatoren  \\\n",
       "0       2019-06-13          115   IC 33          SNCB/NMBS   \n",
       "1       2019-06-13         1569    L B6          SNCB/NMBS   \n",
       "\n",
       "  Spoorlijn van vertrek Uur van reële aankomst Uur van reële vertrek  \\\n",
       "0                    34               16:08:02              16:08:43   \n",
       "1                    90               19:56:36              19:57:54   \n",
       "\n",
       "  Uur van geplande aankomst Uur van geplande vertrek  Vertraging bij aankomst  \\\n",
       "0                  16:08:00                 16:09:00                      2.0   \n",
       "1                  19:55:00                 19:56:00                     96.0   \n",
       "\n",
       "   Vertraging bij vertrek     Richting van de relatie    Naam van de halte  \\\n",
       "0                   -17.0  IC 33: LUXEMBOURG -> LIERS  LIEGE-SAINT-LAMBERT   \n",
       "1                   114.0   L B6: AALST -> SCHAARBEEK          DENDERLEEUW   \n",
       "\n",
       "  Spoorlijn van aankomst Datum van geplande aankomst  \\\n",
       "0                     34         2019-06-13 00:00:00   \n",
       "1                     50         2019-06-13 00:00:00   \n",
       "\n",
       "  Datum van geplande vertrek Datum van reële aankomst Datum van reële vertrek  \n",
       "0                 2019-06-13               2019-06-13              2019-06-13  \n",
       "1                 2019-06-13               2019-06-13              2019-06-13  "
      ]
     },
     "execution_count": 4,
     "metadata": {},
     "output_type": "execute_result"
    }
   ],
   "source": [
    "#Dutch file\n",
    "df = pd.read_csv('ruwe-gegevens-van-stiptheid-d-1.csv', sep=';')\n",
    "\n",
    "df.head(2)"
   ]
  },
  {
   "cell_type": "code",
   "execution_count": 7,
   "metadata": {},
   "outputs": [
    {
     "name": "stdout",
     "output_type": "stream",
     "text": [
      "<class 'pandas.core.frame.DataFrame'>\n",
      "RangeIndex: 71746 entries, 0 to 71745\n",
      "Data columns (total 18 columns):\n",
      "Date van vertrek               71746 non-null object\n",
      "Treinnummer                    71746 non-null int64\n",
      "Relatie                        71746 non-null object\n",
      "Spoorwegoperatoren             71746 non-null object\n",
      "Spoorlijn van vertrek          68165 non-null object\n",
      "Uur van reële aankomst         68214 non-null object\n",
      "Uur van reële vertrek          68219 non-null object\n",
      "Uur van geplande aankomst      68214 non-null object\n",
      "Uur van geplande vertrek       68219 non-null object\n",
      "Vertraging bij aankomst        68218 non-null float64\n",
      "Vertraging bij vertrek         68219 non-null float64\n",
      "Richting van de relatie        65404 non-null object\n",
      "Naam van de halte              71746 non-null object\n",
      "Spoorlijn van aankomst         68158 non-null object\n",
      "Datum van geplande aankomst    68214 non-null object\n",
      "Datum van geplande vertrek     68219 non-null object\n",
      "Datum van reële aankomst       68214 non-null object\n",
      "Datum van reële vertrek        68219 non-null object\n",
      "dtypes: float64(2), int64(1), object(15)\n",
      "memory usage: 9.9+ MB\n"
     ]
    }
   ],
   "source": [
    "# Checking that the type of data and the number of total entries match \n",
    "\n",
    "df.info()"
   ]
  },
  {
   "cell_type": "markdown",
   "metadata": {},
   "source": [
    "### Cleaning data \n",
    "#### Changing object columns to datetimes \n",
    "Then we can manipulate the time data. Reference to parse dates correctly: http://strftime.org/ "
   ]
  },
  {
   "cell_type": "code",
   "execution_count": 8,
   "metadata": {},
   "outputs": [],
   "source": [
    "df[\"Date van vertrek\"] = pd.to_datetime(df[\"Date van vertrek\"], format='%Y-%m-%d')"
   ]
  },
  {
   "cell_type": "code",
   "execution_count": 9,
   "metadata": {},
   "outputs": [],
   "source": [
    "df[\"Datum van reële vertrek\"] = pd.to_datetime(df[\"Datum van reële vertrek\"], format='%Y-%m-%d')"
   ]
  },
  {
   "cell_type": "code",
   "execution_count": 10,
   "metadata": {},
   "outputs": [],
   "source": [
    "df.iloc[:, 5:9] = df.iloc[:, 5:9].apply(pd.to_datetime, errors='coerce')"
   ]
  },
  {
   "cell_type": "code",
   "execution_count": 11,
   "metadata": {},
   "outputs": [],
   "source": [
    "df.iloc[:, 14:17] = df.iloc[:, 14:17].apply(pd.to_datetime, errors='coerce')"
   ]
  },
  {
   "cell_type": "code",
   "execution_count": 12,
   "metadata": {
    "collapsed": true
   },
   "outputs": [
    {
     "name": "stdout",
     "output_type": "stream",
     "text": [
      "<class 'pandas.core.frame.DataFrame'>\n",
      "RangeIndex: 71746 entries, 0 to 71745\n",
      "Data columns (total 18 columns):\n",
      "Date van vertrek               71746 non-null datetime64[ns]\n",
      "Treinnummer                    71746 non-null int64\n",
      "Relatie                        71746 non-null object\n",
      "Spoorwegoperatoren             71746 non-null object\n",
      "Spoorlijn van vertrek          68165 non-null object\n",
      "Uur van reële aankomst         68214 non-null datetime64[ns]\n",
      "Uur van reële vertrek          68219 non-null datetime64[ns]\n",
      "Uur van geplande aankomst      68214 non-null datetime64[ns]\n",
      "Uur van geplande vertrek       68219 non-null datetime64[ns]\n",
      "Vertraging bij aankomst        68218 non-null float64\n",
      "Vertraging bij vertrek         68219 non-null float64\n",
      "Richting van de relatie        65404 non-null object\n",
      "Naam van de halte              71746 non-null object\n",
      "Spoorlijn van aankomst         68158 non-null object\n",
      "Datum van geplande aankomst    68214 non-null datetime64[ns]\n",
      "Datum van geplande vertrek     68219 non-null datetime64[ns]\n",
      "Datum van reële aankomst       68214 non-null datetime64[ns]\n",
      "Datum van reële vertrek        68219 non-null datetime64[ns]\n",
      "dtypes: datetime64[ns](9), float64(2), int64(1), object(6)\n",
      "memory usage: 9.9+ MB\n"
     ]
    }
   ],
   "source": [
    "#Checking that the column types are right. \n",
    "df.info()"
   ]
  },
  {
   "cell_type": "markdown",
   "metadata": {},
   "source": [
    "#### Let's keep the dataframe where the date of departure is the same as the real date of departure"
   ]
  },
  {
   "cell_type": "code",
   "execution_count": 10,
   "metadata": {},
   "outputs": [],
   "source": [
    "real = df[df['Date van vertrek'] == df['Datum van reële vertrek']]"
   ]
  },
  {
   "cell_type": "markdown",
   "metadata": {},
   "source": [
    "Let's look at the unique values for each column"
   ]
  },
  {
   "cell_type": "code",
   "execution_count": 11,
   "metadata": {},
   "outputs": [],
   "source": [
    "#Search unique values\n",
    "\n",
    "def unique_counts(columns):\n",
    "    for i in real.columns:\n",
    "        count= df[i].nunique()\n",
    "        print (i, \":\", count)"
   ]
  },
  {
   "cell_type": "code",
   "execution_count": 13,
   "metadata": {},
   "outputs": [
    {
     "name": "stdout",
     "output_type": "stream",
     "text": [
      "Date van vertrek : 1\n",
      "Treinnummer : 3799\n",
      "Relatie : 104\n",
      "Spoorwegoperatoren : 3\n",
      "Spoorlijn van vertrek : 136\n",
      "Uur van reële aankomst : 42534\n",
      "Uur van reële vertrek : 42468\n",
      "Uur van geplande aankomst : 1433\n",
      "Uur van geplande vertrek : 1396\n",
      "Vertraging bij aankomst : 1923\n",
      "Vertraging bij vertrek : 1879\n",
      "Richting van de relatie : 204\n",
      "Naam van de halte : 625\n",
      "Spoorlijn van aankomst : 136\n",
      "Datum van geplande aankomst : 2\n",
      "Datum van geplande vertrek : 2\n",
      "Datum van reële aankomst : 2\n",
      "Datum van reële vertrek : 2\n"
     ]
    }
   ],
   "source": [
    "unique_counts(real)"
   ]
  },
  {
   "cell_type": "markdown",
   "metadata": {},
   "source": [
    "### Thoughts \n",
    "\n",
    "The data  is only one day of train activity  \n",
    "There are 3724 trains, three railtrack operators, 204 train directions,  136 departure railines, 120 arrival railines, 620 stations.\n"
   ]
  },
  {
   "cell_type": "markdown",
   "metadata": {},
   "source": [
    "- Arriving on time: Arriving before or 5:59 min after the planned arrival.  \n",
    "\n",
    "Use case: Someone wants to go  to X town and needs to make a transfer. \n",
    "Solution: Use Bayes theorem\n",
    "- Pa = Probability that the train will arrive late\n",
    "- Pb = Probability that the train will leave late\n",
    "\n",
    "General open data approaches:\n",
    "- Punctuality \n",
    "- Train optimization\n",
    "- Think about network analysis \n",
    "- Where are the new train lines going \n",
    "- Relate to other open data projects\n",
    "\n",
    "SUSTAINABILITY \n",
    "- How much CO2 are we producing, noise etc\n",
    "- How to promote the use of the train \n",
    "- What is the current use of old materials? Are they garbage? \n",
    "- How is garbage managed? "
   ]
  },
  {
   "cell_type": "code",
   "execution_count": 51,
   "metadata": {
    "collapsed": true
   },
   "outputs": [
    {
     "name": "stdout",
     "output_type": "stream",
     "text": [
      "<class 'pandas.core.frame.DataFrame'>\n",
      "Int64Index: 67960 entries, 0 to 71745\n",
      "Data columns (total 18 columns):\n",
      "Date van vertrek               67960 non-null datetime64[ns]\n",
      "Treinnummer                    67960 non-null int64\n",
      "Relatie                        67960 non-null object\n",
      "Spoorwegoperatoren             67960 non-null object\n",
      "Spoorlijn van vertrek          67906 non-null object\n",
      "Uur van reële aankomst         64428 non-null datetime64[ns]\n",
      "Uur van reële vertrek          67960 non-null datetime64[ns]\n",
      "Uur van geplande aankomst      64428 non-null datetime64[ns]\n",
      "Uur van geplande vertrek       67960 non-null datetime64[ns]\n",
      "Vertraging bij aankomst        64432 non-null float64\n",
      "Vertraging bij vertrek         67960 non-null float64\n",
      "Richting van de relatie        62143 non-null object\n",
      "Naam van de halte              67960 non-null object\n",
      "Spoorlijn van aankomst         64379 non-null object\n",
      "Datum van geplande aankomst    64428 non-null datetime64[ns]\n",
      "Datum van geplande vertrek     67960 non-null datetime64[ns]\n",
      "Datum van reële aankomst       64428 non-null datetime64[ns]\n",
      "Datum van reële vertrek        67960 non-null datetime64[ns]\n",
      "dtypes: datetime64[ns](9), float64(2), int64(1), object(6)\n",
      "memory usage: 9.9+ MB\n"
     ]
    }
   ],
   "source": [
    "real.info()"
   ]
  },
  {
   "cell_type": "code",
   "execution_count": null,
   "metadata": {
    "scrolled": true
   },
   "outputs": [],
   "source": [
    "df.describe()"
   ]
  },
  {
   "cell_type": "code",
   "execution_count": null,
   "metadata": {},
   "outputs": [],
   "source": [
    "real.describe()"
   ]
  },
  {
   "cell_type": "markdown",
   "metadata": {},
   "source": [
    "## 1. What are the most delayed trains during 6/6/2019?\n",
    "\n",
    "Let's consider all trains that delayed more than 15 min (900 seconds). Trains don't arrive very very earlier, but they can be very delayed. The mean of delay is ~ 1,100 seconds, or 18.3 minutes."
   ]
  },
  {
   "cell_type": "code",
   "execution_count": 52,
   "metadata": {},
   "outputs": [],
   "source": [
    "very_delayed= df[(df['Vertraging bij aankomst'] > 900)]"
   ]
  },
  {
   "cell_type": "code",
   "execution_count": 53,
   "metadata": {},
   "outputs": [
    {
     "data": {
      "text/plain": [
       "160"
      ]
     },
     "execution_count": 53,
     "metadata": {},
     "output_type": "execute_result"
    }
   ],
   "source": [
    "very_delayed.Treinnummer.nunique()"
   ]
  },
  {
   "cell_type": "markdown",
   "metadata": {},
   "source": [
    "#### More dramatic delays on 6/6/2019\n",
    "\n",
    "- From 3724 trains, only 160 have delayed more than 15 min, this is 4.3% of total trains \n",
    "- The train that caused more trouble was 2132, which delayed affected 50 trajectories \n",
    "- From the 160 delayed trains, 41% (65) delayed less than 5 trajectories, 13% (21) trains more than 20 trajectories \n",
    "- The mean number of delayed trajectories caused by a train was 10 "
   ]
  },
  {
   "cell_type": "code",
   "execution_count": 54,
   "metadata": {},
   "outputs": [
    {
     "data": {
      "text/plain": [
       "160"
      ]
     },
     "execution_count": 54,
     "metadata": {},
     "output_type": "execute_result"
    }
   ],
   "source": [
    "very = very_delayed.groupby('Treinnummer')['Treinnummer'].count().sort_values(ascending= False)\n",
    "\n",
    "len(very)"
   ]
  },
  {
   "cell_type": "code",
   "execution_count": 55,
   "metadata": {
    "scrolled": true
   },
   "outputs": [
    {
     "data": {
      "text/plain": [
       "count    160.000000\n",
       "mean       9.581250\n",
       "std        9.361014\n",
       "min        1.000000\n",
       "25%        2.000000\n",
       "50%        6.000000\n",
       "75%       13.250000\n",
       "max       50.000000\n",
       "Name: Treinnummer, dtype: float64"
      ]
     },
     "execution_count": 55,
     "metadata": {},
     "output_type": "execute_result"
    }
   ],
   "source": [
    "very.describe()"
   ]
  },
  {
   "cell_type": "code",
   "execution_count": 56,
   "metadata": {},
   "outputs": [
    {
     "data": {
      "text/plain": [
       "<matplotlib.axes._subplots.AxesSubplot at 0x2283cd3e4e0>"
      ]
     },
     "execution_count": 56,
     "metadata": {},
     "output_type": "execute_result"
    },
    {
     "data": {
      "image/png": "[encoded data removed]",
      "text/plain": [
       "<Figure size 432x288 with 1 Axes>"
      ]
     },
     "metadata": {},
     "output_type": "display_data"
    }
   ],
   "source": [
    " very.plot.hist()"
   ]
  },
  {
   "cell_type": "markdown",
   "metadata": {},
   "source": [
    "As the histogram above shows, most trains delay 5 or less trajectories, which is 40% of cases. Train 2132 is an outlier.\n",
    "\n",
    "### 1.B : Analyzing the most delayed train, number 2132\n",
    " When we see chronologically in time the diferent delays, with 50 trajectories affected. We notice in the figure below that the train delayed, stabilized and kept delaying. According to the result in .describe(), the maximum delay of this train is 23.45 minutes. In addition, the delays in arrivals and departures follow similar curves."
   ]
  },
  {
   "cell_type": "code",
   "execution_count": 14,
   "metadata": {},
   "outputs": [],
   "source": [
    "mostdelayed = df[df['Treinnummer'] == 2132]"
   ]
  },
  {
   "cell_type": "code",
   "execution_count": 18,
   "metadata": {},
   "outputs": [
    {
     "data": {
      "text/plain": [
       "<matplotlib.axes._subplots.AxesSubplot at 0x242b1ccd240>"
      ]
     },
     "execution_count": 18,
     "metadata": {},
     "output_type": "execute_result"
    },
    {
     "data": {
      "image/png": "[encoded data removed]",
      "text/plain": [
       "<Figure size 432x288 with 1 Axes>"
      ]
     },
     "metadata": {},
     "output_type": "display_data"
    }
   ],
   "source": [
    "mostdelayed.plot(x= \"Uur van reële aankomst\", y= \"Vertraging bij aankomst\")"
   ]
  },
  {
   "cell_type": "code",
   "execution_count": 16,
   "metadata": {},
   "outputs": [
    {
     "data": {
      "text/html": [
       "<div>\n",
       "<style scoped>\n",
       "    .dataframe tbody tr th:only-of-type {\n",
       "        vertical-align: middle;\n",
       "    }\n",
       "\n",
       "    .dataframe tbody tr th {\n",
       "        vertical-align: top;\n",
       "    }\n",
       "\n",
       "    .dataframe thead th {\n",
       "        text-align: right;\n",
       "    }\n",
       "</style>\n",
       "<table border=\"1\" class=\"dataframe\">\n",
       "  <thead>\n",
       "    <tr style=\"text-align: right;\">\n",
       "      <th></th>\n",
       "      <th>Treinnummer</th>\n",
       "      <th>Vertraging bij aankomst</th>\n",
       "      <th>Vertraging bij vertrek</th>\n",
       "    </tr>\n",
       "  </thead>\n",
       "  <tbody>\n",
       "    <tr>\n",
       "      <th>count</th>\n",
       "      <td>57.0</td>\n",
       "      <td>57.000000</td>\n",
       "      <td>56.000000</td>\n",
       "    </tr>\n",
       "    <tr>\n",
       "      <th>mean</th>\n",
       "      <td>2132.0</td>\n",
       "      <td>1092.508772</td>\n",
       "      <td>1109.285714</td>\n",
       "    </tr>\n",
       "    <tr>\n",
       "      <th>std</th>\n",
       "      <td>0.0</td>\n",
       "      <td>363.032964</td>\n",
       "      <td>330.334085</td>\n",
       "    </tr>\n",
       "    <tr>\n",
       "      <th>min</th>\n",
       "      <td>2132.0</td>\n",
       "      <td>-131.000000</td>\n",
       "      <td>237.000000</td>\n",
       "    </tr>\n",
       "    <tr>\n",
       "      <th>25%</th>\n",
       "      <td>2132.0</td>\n",
       "      <td>1010.000000</td>\n",
       "      <td>1010.000000</td>\n",
       "    </tr>\n",
       "    <tr>\n",
       "      <th>50%</th>\n",
       "      <td>2132.0</td>\n",
       "      <td>1255.000000</td>\n",
       "      <td>1227.000000</td>\n",
       "    </tr>\n",
       "    <tr>\n",
       "      <th>75%</th>\n",
       "      <td>2132.0</td>\n",
       "      <td>1356.000000</td>\n",
       "      <td>1357.000000</td>\n",
       "    </tr>\n",
       "    <tr>\n",
       "      <th>max</th>\n",
       "      <td>2132.0</td>\n",
       "      <td>1407.000000</td>\n",
       "      <td>1458.000000</td>\n",
       "    </tr>\n",
       "  </tbody>\n",
       "</table>\n",
       "</div>"
      ],
      "text/plain": [
       "       Treinnummer  Vertraging bij aankomst  Vertraging bij vertrek\n",
       "count         57.0                57.000000               56.000000\n",
       "mean        2132.0              1092.508772             1109.285714\n",
       "std            0.0               363.032964              330.334085\n",
       "min         2132.0              -131.000000              237.000000\n",
       "25%         2132.0              1010.000000             1010.000000\n",
       "50%         2132.0              1255.000000             1227.000000\n",
       "75%         2132.0              1356.000000             1357.000000\n",
       "max         2132.0              1407.000000             1458.000000"
      ]
     },
     "execution_count": 16,
     "metadata": {},
     "output_type": "execute_result"
    }
   ],
   "source": [
    "mostdelayed.describe()"
   ]
  },
  {
   "cell_type": "code",
   "execution_count": 19,
   "metadata": {},
   "outputs": [
    {
     "data": {
      "text/plain": [
       "23.45"
      ]
     },
     "execution_count": 19,
     "metadata": {},
     "output_type": "execute_result"
    }
   ],
   "source": [
    "1407/60"
   ]
  },
  {
   "cell_type": "code",
   "execution_count": 23,
   "metadata": {
    "scrolled": true
   },
   "outputs": [
    {
     "data": {
      "text/plain": [
       "<matplotlib.axes._subplots.AxesSubplot at 0x242b223cfd0>"
      ]
     },
     "execution_count": 23,
     "metadata": {},
     "output_type": "execute_result"
    },
    {
     "data": {
      "image/png": "[encoded data removed]",
      "text/plain": [
       "<Figure size 432x288 with 1 Axes>"
      ]
     },
     "metadata": {},
     "output_type": "display_data"
    },
    {
     "data": {
      "image/png": "[encoded data removed]",
      "text/plain": [
       "<Figure size 432x288 with 1 Axes>"
      ]
     },
     "metadata": {},
     "output_type": "display_data"
    }
   ],
   "source": [
    "mostdelayed['Vertraging bij vertrek'].plot.hist(bins=10)\n",
    "\n",
    "mostdelayed.plot(x= \"Uur van reële vertrek\", y= \"Vertraging bij vertrek\")"
   ]
  },
  {
   "cell_type": "code",
   "execution_count": 73,
   "metadata": {
    "scrolled": true
   },
   "outputs": [
    {
     "data": {
      "text/plain": [
       "pandas.core.frame.DataFrame"
      ]
     },
     "execution_count": 73,
     "metadata": {},
     "output_type": "execute_result"
    }
   ],
   "source": [
    "delayperstation = mostdelayed.groupby('Naam van de halte')[['Vertraging bij aankomst', 'Vertraging bij vertrek']].sum()\n",
    "\n",
    "type(delayperstation)"
   ]
  },
  {
   "cell_type": "code",
   "execution_count": 80,
   "metadata": {
    "scrolled": true
   },
   "outputs": [
    {
     "data": {
      "text/html": [
       "<div>\n",
       "<style scoped>\n",
       "    .dataframe tbody tr th:only-of-type {\n",
       "        vertical-align: middle;\n",
       "    }\n",
       "\n",
       "    .dataframe tbody tr th {\n",
       "        vertical-align: top;\n",
       "    }\n",
       "\n",
       "    .dataframe thead th {\n",
       "        text-align: right;\n",
       "    }\n",
       "</style>\n",
       "<table border=\"1\" class=\"dataframe\">\n",
       "  <thead>\n",
       "    <tr style=\"text-align: right;\">\n",
       "      <th></th>\n",
       "      <th>Naam van de halte</th>\n",
       "      <th>Vertraging bij aankomst</th>\n",
       "      <th>Vertraging bij vertrek</th>\n",
       "    </tr>\n",
       "  </thead>\n",
       "  <tbody>\n",
       "    <tr>\n",
       "      <th>0</th>\n",
       "      <td>ARLON</td>\n",
       "      <td>-131.0</td>\n",
       "      <td>237.0</td>\n",
       "    </tr>\n",
       "    <tr>\n",
       "      <th>1</th>\n",
       "      <td>ASSESSE</td>\n",
       "      <td>1010.0</td>\n",
       "      <td>1010.0</td>\n",
       "    </tr>\n",
       "    <tr>\n",
       "      <th>2</th>\n",
       "      <td>AYE</td>\n",
       "      <td>1023.0</td>\n",
       "      <td>1023.0</td>\n",
       "    </tr>\n",
       "    <tr>\n",
       "      <th>3</th>\n",
       "      <td>BEUZET</td>\n",
       "      <td>1357.0</td>\n",
       "      <td>1357.0</td>\n",
       "    </tr>\n",
       "    <tr>\n",
       "      <th>4</th>\n",
       "      <td>BLANMONT</td>\n",
       "      <td>1338.0</td>\n",
       "      <td>1338.0</td>\n",
       "    </tr>\n",
       "    <tr>\n",
       "      <th>5</th>\n",
       "      <td>BOIS D'AUSSE</td>\n",
       "      <td>1010.0</td>\n",
       "      <td>1010.0</td>\n",
       "    </tr>\n",
       "    <tr>\n",
       "      <th>6</th>\n",
       "      <td>BOSVOORDE</td>\n",
       "      <td>1262.0</td>\n",
       "      <td>1262.0</td>\n",
       "    </tr>\n",
       "    <tr>\n",
       "      <th>7</th>\n",
       "      <td>BRUSSEL-CENTRAAL</td>\n",
       "      <td>1205.0</td>\n",
       "      <td>1207.0</td>\n",
       "    </tr>\n",
       "    <tr>\n",
       "      <th>8</th>\n",
       "      <td>BRUSSEL-CONGRES</td>\n",
       "      <td>1226.0</td>\n",
       "      <td>1226.0</td>\n",
       "    </tr>\n",
       "    <tr>\n",
       "      <th>9</th>\n",
       "      <td>BRUSSEL-KAPELLEKERK</td>\n",
       "      <td>1178.0</td>\n",
       "      <td>1178.0</td>\n",
       "    </tr>\n",
       "    <tr>\n",
       "      <th>10</th>\n",
       "      <td>BRUSSEL-LUXEMBURG</td>\n",
       "      <td>1294.0</td>\n",
       "      <td>1295.0</td>\n",
       "    </tr>\n",
       "    <tr>\n",
       "      <th>11</th>\n",
       "      <td>BRUSSEL-NOORD</td>\n",
       "      <td>1271.0</td>\n",
       "      <td>1228.0</td>\n",
       "    </tr>\n",
       "    <tr>\n",
       "      <th>12</th>\n",
       "      <td>BRUSSEL-SCHUMAN</td>\n",
       "      <td>1295.0</td>\n",
       "      <td>1274.0</td>\n",
       "    </tr>\n",
       "    <tr>\n",
       "      <th>13</th>\n",
       "      <td>BRUSSEL-ZUID</td>\n",
       "      <td>1275.0</td>\n",
       "      <td>0.0</td>\n",
       "    </tr>\n",
       "    <tr>\n",
       "      <th>14</th>\n",
       "      <td>CHAPOIS</td>\n",
       "      <td>1055.0</td>\n",
       "      <td>1055.0</td>\n",
       "    </tr>\n",
       "    <tr>\n",
       "      <th>15</th>\n",
       "      <td>CHASTRE</td>\n",
       "      <td>1338.0</td>\n",
       "      <td>1338.0</td>\n",
       "    </tr>\n",
       "    <tr>\n",
       "      <th>16</th>\n",
       "      <td>CINEY</td>\n",
       "      <td>1046.0</td>\n",
       "      <td>1068.0</td>\n",
       "    </tr>\n",
       "    <tr>\n",
       "      <th>17</th>\n",
       "      <td>COURRIERE</td>\n",
       "      <td>1010.0</td>\n",
       "      <td>1010.0</td>\n",
       "    </tr>\n",
       "    <tr>\n",
       "      <th>18</th>\n",
       "      <td>DAVE-SAINT-MARTIN</td>\n",
       "      <td>1378.0</td>\n",
       "      <td>1378.0</td>\n",
       "    </tr>\n",
       "    <tr>\n",
       "      <th>19</th>\n",
       "      <td>ERNAGE</td>\n",
       "      <td>1378.0</td>\n",
       "      <td>1378.0</td>\n",
       "    </tr>\n",
       "    <tr>\n",
       "      <th>20</th>\n",
       "      <td>ETTERBEEK</td>\n",
       "      <td>1268.0</td>\n",
       "      <td>1268.0</td>\n",
       "    </tr>\n",
       "    <tr>\n",
       "      <th>21</th>\n",
       "      <td>FLOREE</td>\n",
       "      <td>1010.0</td>\n",
       "      <td>1010.0</td>\n",
       "    </tr>\n",
       "    <tr>\n",
       "      <th>22</th>\n",
       "      <td>FORRIERES</td>\n",
       "      <td>968.0</td>\n",
       "      <td>968.0</td>\n",
       "    </tr>\n",
       "    <tr>\n",
       "      <th>23</th>\n",
       "      <td>GEMBLOUX</td>\n",
       "      <td>1351.0</td>\n",
       "      <td>1378.0</td>\n",
       "    </tr>\n",
       "    <tr>\n",
       "      <th>24</th>\n",
       "      <td>GENVAL</td>\n",
       "      <td>1350.0</td>\n",
       "      <td>1350.0</td>\n",
       "    </tr>\n",
       "    <tr>\n",
       "      <th>25</th>\n",
       "      <td>GROENENDAAL</td>\n",
       "      <td>1361.0</td>\n",
       "      <td>1361.0</td>\n",
       "    </tr>\n",
       "    <tr>\n",
       "      <th>26</th>\n",
       "      <td>GRUPONT</td>\n",
       "      <td>973.0</td>\n",
       "      <td>973.0</td>\n",
       "    </tr>\n",
       "    <tr>\n",
       "      <th>...</th>\n",
       "      <td>...</td>\n",
       "      <td>...</td>\n",
       "      <td>...</td>\n",
       "    </tr>\n",
       "    <tr>\n",
       "      <th>30</th>\n",
       "      <td>HAVERSIN-GARAGE</td>\n",
       "      <td>1055.0</td>\n",
       "      <td>1055.0</td>\n",
       "    </tr>\n",
       "    <tr>\n",
       "      <th>31</th>\n",
       "      <td>HOEILAART</td>\n",
       "      <td>1361.0</td>\n",
       "      <td>1361.0</td>\n",
       "    </tr>\n",
       "    <tr>\n",
       "      <th>32</th>\n",
       "      <td>JAMBES-EST</td>\n",
       "      <td>1378.0</td>\n",
       "      <td>1378.0</td>\n",
       "    </tr>\n",
       "    <tr>\n",
       "      <th>33</th>\n",
       "      <td>LA HULPE</td>\n",
       "      <td>1340.0</td>\n",
       "      <td>1340.0</td>\n",
       "    </tr>\n",
       "    <tr>\n",
       "      <th>34</th>\n",
       "      <td>LEIGNON</td>\n",
       "      <td>1046.0</td>\n",
       "      <td>1046.0</td>\n",
       "    </tr>\n",
       "    <tr>\n",
       "      <th>35</th>\n",
       "      <td>LIBRAMONT</td>\n",
       "      <td>343.0</td>\n",
       "      <td>970.0</td>\n",
       "    </tr>\n",
       "    <tr>\n",
       "      <th>36</th>\n",
       "      <td>LONZEE</td>\n",
       "      <td>1357.0</td>\n",
       "      <td>1357.0</td>\n",
       "    </tr>\n",
       "    <tr>\n",
       "      <th>37</th>\n",
       "      <td>MARBEHAN</td>\n",
       "      <td>297.0</td>\n",
       "      <td>309.0</td>\n",
       "    </tr>\n",
       "    <tr>\n",
       "      <th>38</th>\n",
       "      <td>MARLOIE</td>\n",
       "      <td>946.0</td>\n",
       "      <td>1023.0</td>\n",
       "    </tr>\n",
       "    <tr>\n",
       "      <th>39</th>\n",
       "      <td>MONT-SAINT-GUIBERT</td>\n",
       "      <td>1338.0</td>\n",
       "      <td>1338.0</td>\n",
       "    </tr>\n",
       "    <tr>\n",
       "      <th>40</th>\n",
       "      <td>NAMUR</td>\n",
       "      <td>1387.0</td>\n",
       "      <td>1458.0</td>\n",
       "    </tr>\n",
       "    <tr>\n",
       "      <th>41</th>\n",
       "      <td>NAMUR-HERBATTE</td>\n",
       "      <td>1378.0</td>\n",
       "      <td>1378.0</td>\n",
       "    </tr>\n",
       "    <tr>\n",
       "      <th>42</th>\n",
       "      <td>NANINNE</td>\n",
       "      <td>1378.0</td>\n",
       "      <td>1378.0</td>\n",
       "    </tr>\n",
       "    <tr>\n",
       "      <th>43</th>\n",
       "      <td>NATOYE</td>\n",
       "      <td>1010.0</td>\n",
       "      <td>1010.0</td>\n",
       "    </tr>\n",
       "    <tr>\n",
       "      <th>44</th>\n",
       "      <td>NEUFCHATEAU</td>\n",
       "      <td>294.0</td>\n",
       "      <td>294.0</td>\n",
       "    </tr>\n",
       "    <tr>\n",
       "      <th>45</th>\n",
       "      <td>OTTIGNIES</td>\n",
       "      <td>1407.0</td>\n",
       "      <td>1375.0</td>\n",
       "    </tr>\n",
       "    <tr>\n",
       "      <th>46</th>\n",
       "      <td>POIX-SAINT-HUBERT</td>\n",
       "      <td>955.0</td>\n",
       "      <td>955.0</td>\n",
       "    </tr>\n",
       "    <tr>\n",
       "      <th>47</th>\n",
       "      <td>PROFONDSART</td>\n",
       "      <td>1352.0</td>\n",
       "      <td>1352.0</td>\n",
       "    </tr>\n",
       "    <tr>\n",
       "      <th>48</th>\n",
       "      <td>RHISNES</td>\n",
       "      <td>1359.0</td>\n",
       "      <td>1359.0</td>\n",
       "    </tr>\n",
       "    <tr>\n",
       "      <th>49</th>\n",
       "      <td>RHISNES-SAS</td>\n",
       "      <td>1391.0</td>\n",
       "      <td>1391.0</td>\n",
       "    </tr>\n",
       "    <tr>\n",
       "      <th>50</th>\n",
       "      <td>RIXENSART</td>\n",
       "      <td>1356.0</td>\n",
       "      <td>1356.0</td>\n",
       "    </tr>\n",
       "    <tr>\n",
       "      <th>51</th>\n",
       "      <td>ROCHEFORT-JEMELLE</td>\n",
       "      <td>975.0</td>\n",
       "      <td>986.0</td>\n",
       "    </tr>\n",
       "    <tr>\n",
       "      <th>52</th>\n",
       "      <td>SAINT-DENIS-BOVESSE</td>\n",
       "      <td>1391.0</td>\n",
       "      <td>1391.0</td>\n",
       "    </tr>\n",
       "    <tr>\n",
       "      <th>53</th>\n",
       "      <td>SART-BERNARD</td>\n",
       "      <td>1005.0</td>\n",
       "      <td>1005.0</td>\n",
       "    </tr>\n",
       "    <tr>\n",
       "      <th>54</th>\n",
       "      <td>STOCKEM</td>\n",
       "      <td>274.0</td>\n",
       "      <td>274.0</td>\n",
       "    </tr>\n",
       "    <tr>\n",
       "      <th>55</th>\n",
       "      <td>VIVILLE</td>\n",
       "      <td>279.0</td>\n",
       "      <td>279.0</td>\n",
       "    </tr>\n",
       "    <tr>\n",
       "      <th>56</th>\n",
       "      <td>WATERMAAL</td>\n",
       "      <td>1255.0</td>\n",
       "      <td>1255.0</td>\n",
       "    </tr>\n",
       "  </tbody>\n",
       "</table>\n",
       "<p>57 rows × 3 columns</p>\n",
       "</div>"
      ],
      "text/plain": [
       "      Naam van de halte  Vertraging bij aankomst  Vertraging bij vertrek\n",
       "0                 ARLON                   -131.0                   237.0\n",
       "1               ASSESSE                   1010.0                  1010.0\n",
       "2                   AYE                   1023.0                  1023.0\n",
       "3                BEUZET                   1357.0                  1357.0\n",
       "4              BLANMONT                   1338.0                  1338.0\n",
       "5          BOIS D'AUSSE                   1010.0                  1010.0\n",
       "6             BOSVOORDE                   1262.0                  1262.0\n",
       "7      BRUSSEL-CENTRAAL                   1205.0                  1207.0\n",
       "8       BRUSSEL-CONGRES                   1226.0                  1226.0\n",
       "9   BRUSSEL-KAPELLEKERK                   1178.0                  1178.0\n",
       "10    BRUSSEL-LUXEMBURG                   1294.0                  1295.0\n",
       "11        BRUSSEL-NOORD                   1271.0                  1228.0\n",
       "12      BRUSSEL-SCHUMAN                   1295.0                  1274.0\n",
       "13         BRUSSEL-ZUID                   1275.0                     0.0\n",
       "14              CHAPOIS                   1055.0                  1055.0\n",
       "15              CHASTRE                   1338.0                  1338.0\n",
       "16                CINEY                   1046.0                  1068.0\n",
       "17            COURRIERE                   1010.0                  1010.0\n",
       "18    DAVE-SAINT-MARTIN                   1378.0                  1378.0\n",
       "19               ERNAGE                   1378.0                  1378.0\n",
       "20            ETTERBEEK                   1268.0                  1268.0\n",
       "21               FLOREE                   1010.0                  1010.0\n",
       "22            FORRIERES                    968.0                   968.0\n",
       "23             GEMBLOUX                   1351.0                  1378.0\n",
       "24               GENVAL                   1350.0                  1350.0\n",
       "25          GROENENDAAL                   1361.0                  1361.0\n",
       "26              GRUPONT                    973.0                   973.0\n",
       "..                  ...                      ...                     ...\n",
       "30      HAVERSIN-GARAGE                   1055.0                  1055.0\n",
       "31            HOEILAART                   1361.0                  1361.0\n",
       "32           JAMBES-EST                   1378.0                  1378.0\n",
       "33             LA HULPE                   1340.0                  1340.0\n",
       "34              LEIGNON                   1046.0                  1046.0\n",
       "35            LIBRAMONT                    343.0                   970.0\n",
       "36               LONZEE                   1357.0                  1357.0\n",
       "37             MARBEHAN                    297.0                   309.0\n",
       "38              MARLOIE                    946.0                  1023.0\n",
       "39   MONT-SAINT-GUIBERT                   1338.0                  1338.0\n",
       "40                NAMUR                   1387.0                  1458.0\n",
       "41       NAMUR-HERBATTE                   1378.0                  1378.0\n",
       "42              NANINNE                   1378.0                  1378.0\n",
       "43               NATOYE                   1010.0                  1010.0\n",
       "44          NEUFCHATEAU                    294.0                   294.0\n",
       "45            OTTIGNIES                   1407.0                  1375.0\n",
       "46    POIX-SAINT-HUBERT                    955.0                   955.0\n",
       "47          PROFONDSART                   1352.0                  1352.0\n",
       "48              RHISNES                   1359.0                  1359.0\n",
       "49          RHISNES-SAS                   1391.0                  1391.0\n",
       "50            RIXENSART                   1356.0                  1356.0\n",
       "51    ROCHEFORT-JEMELLE                    975.0                   986.0\n",
       "52  SAINT-DENIS-BOVESSE                   1391.0                  1391.0\n",
       "53         SART-BERNARD                   1005.0                  1005.0\n",
       "54              STOCKEM                    274.0                   274.0\n",
       "55              VIVILLE                    279.0                   279.0\n",
       "56            WATERMAAL                   1255.0                  1255.0\n",
       "\n",
       "[57 rows x 3 columns]"
      ]
     },
     "execution_count": 80,
     "metadata": {},
     "output_type": "execute_result"
    }
   ],
   "source": [
    "perstation = delayperstation.reset_index()\n",
    "\n",
    "perstation"
   ]
  },
  {
   "cell_type": "code",
   "execution_count": 24,
   "metadata": {},
   "outputs": [
    {
     "data": {
      "text/plain": [
       "21.666666666666668"
      ]
     },
     "execution_count": 24,
     "metadata": {},
     "output_type": "execute_result"
    }
   ],
   "source": [
    "1300/60"
   ]
  },
  {
   "cell_type": "markdown",
   "metadata": {},
   "source": [
    "The graph below is very dense, it plots the delay of arrivals vs. the name of the stations. In average of all trains per station has three categories, around 250, 1000 and 1300 seconds (21.66 minutes) of delay. We can conclude that the train system works wells."
   ]
  },
  {
   "cell_type": "code",
   "execution_count": 85,
   "metadata": {},
   "outputs": [
    {
     "data": {
      "text/plain": [
       "<matplotlib.axes._subplots.AxesSubplot at 0x2283eb6e9e8>"
      ]
     },
     "execution_count": 85,
     "metadata": {},
     "output_type": "execute_result"
    },
    {
     "data": {
      "image/png": "[encoded data removed]",
      "text/plain": [
       "<Figure size 432x288 with 1 Axes>"
      ]
     },
     "metadata": {},
     "output_type": "display_data"
    }
   ],
   "source": [
    "sns.barplot(x= 'Naam van de halte', y= 'Vertraging bij aankomst', data= perstation)"
   ]
  },
  {
   "cell_type": "markdown",
   "metadata": {},
   "source": [
    "## 2) Reducing the data frame\n",
    "\n",
    "Observing the graph below, with many outliers, \n",
    "\n",
    "We delete outliers that affect the mean and median values of the total set. \n",
    "\n",
    "- How much time will a passenger wait till taking another route? \n",
    "we consider the case that passengers will wait maximum 15 minutes before considering to take another route, which is 900 seconds. We will reduce the set to these data. "
   ]
  },
  {
   "cell_type": "code",
   "execution_count": 31,
   "metadata": {},
   "outputs": [
    {
     "data": {
      "text/plain": [
       "<matplotlib.axes._subplots.AxesSubplot at 0x242b238d8d0>"
      ]
     },
     "execution_count": 31,
     "metadata": {},
     "output_type": "execute_result"
    },
    {
     "data": {
      "image/png": "[encoded data removed]",
      "text/plain": [
       "<Figure size 432x288 with 1 Axes>"
      ]
     },
     "metadata": {},
     "output_type": "display_data"
    }
   ],
   "source": [
    "# After deleting outliers\n",
    "data['Vertraging bij aankomst'].plot.hist(bins=50)"
   ]
  },
  {
   "cell_type": "code",
   "execution_count": 27,
   "metadata": {},
   "outputs": [
    {
     "data": {
      "text/plain": [
       "<matplotlib.axes._subplots.AxesSubplot at 0x242b22a9dd8>"
      ]
     },
     "execution_count": 27,
     "metadata": {},
     "output_type": "execute_result"
    },
    {
     "data": {
      "image/png": "[encoded data removed]",
      "text/plain": [
       "<Figure size 432x288 with 1 Axes>"
      ]
     },
     "metadata": {},
     "output_type": "display_data"
    }
   ],
   "source": [
    "# Before deleting outliers\n",
    "df['Vertraging bij aankomst'].plot.hist(bins=50)"
   ]
  },
  {
   "cell_type": "code",
   "execution_count": 28,
   "metadata": {},
   "outputs": [],
   "source": [
    "#taking trains that only delay 15 min\n",
    "data = df[(df['Vertraging bij aankomst'] <= 900) & (df['Vertraging bij vertrek'] <= 900)]"
   ]
  },
  {
   "cell_type": "markdown",
   "metadata": {},
   "source": [
    "We reduced the dataframe from 67960 to 48821 entries"
   ]
  },
  {
   "cell_type": "code",
   "execution_count": 32,
   "metadata": {},
   "outputs": [],
   "source": [
    "#The value of 300 seconds (5 minutes) was selected after observing the distribution function\n",
    "\n",
    "data = data[(data['Vertraging bij aankomst'] > -300) & (data['Vertraging bij vertrek'] > - 300)]"
   ]
  },
  {
   "cell_type": "code",
   "execution_count": 30,
   "metadata": {},
   "outputs": [
    {
     "data": {
      "text/html": [
       "<div>\n",
       "<style scoped>\n",
       "    .dataframe tbody tr th:only-of-type {\n",
       "        vertical-align: middle;\n",
       "    }\n",
       "\n",
       "    .dataframe tbody tr th {\n",
       "        vertical-align: top;\n",
       "    }\n",
       "\n",
       "    .dataframe thead th {\n",
       "        text-align: right;\n",
       "    }\n",
       "</style>\n",
       "<table border=\"1\" class=\"dataframe\">\n",
       "  <thead>\n",
       "    <tr style=\"text-align: right;\">\n",
       "      <th></th>\n",
       "      <th>Treinnummer</th>\n",
       "      <th>Vertraging bij aankomst</th>\n",
       "      <th>Vertraging bij vertrek</th>\n",
       "    </tr>\n",
       "  </thead>\n",
       "  <tbody>\n",
       "    <tr>\n",
       "      <th>count</th>\n",
       "      <td>63197.000000</td>\n",
       "      <td>63197.000000</td>\n",
       "      <td>63197.000000</td>\n",
       "    </tr>\n",
       "    <tr>\n",
       "      <th>mean</th>\n",
       "      <td>3476.822365</td>\n",
       "      <td>101.318781</td>\n",
       "      <td>107.738342</td>\n",
       "    </tr>\n",
       "    <tr>\n",
       "      <th>std</th>\n",
       "      <td>2319.557287</td>\n",
       "      <td>170.939532</td>\n",
       "      <td>169.111983</td>\n",
       "    </tr>\n",
       "    <tr>\n",
       "      <th>min</th>\n",
       "      <td>11.000000</td>\n",
       "      <td>-295.000000</td>\n",
       "      <td>-295.000000</td>\n",
       "    </tr>\n",
       "    <tr>\n",
       "      <th>25%</th>\n",
       "      <td>1988.000000</td>\n",
       "      <td>-5.000000</td>\n",
       "      <td>4.000000</td>\n",
       "    </tr>\n",
       "    <tr>\n",
       "      <th>50%</th>\n",
       "      <td>3037.000000</td>\n",
       "      <td>46.000000</td>\n",
       "      <td>51.000000</td>\n",
       "    </tr>\n",
       "    <tr>\n",
       "      <th>75%</th>\n",
       "      <td>4414.000000</td>\n",
       "      <td>154.000000</td>\n",
       "      <td>157.000000</td>\n",
       "    </tr>\n",
       "    <tr>\n",
       "      <th>max</th>\n",
       "      <td>19975.000000</td>\n",
       "      <td>900.000000</td>\n",
       "      <td>899.000000</td>\n",
       "    </tr>\n",
       "  </tbody>\n",
       "</table>\n",
       "</div>"
      ],
      "text/plain": [
       "        Treinnummer  Vertraging bij aankomst  Vertraging bij vertrek\n",
       "count  63197.000000             63197.000000            63197.000000\n",
       "mean    3476.822365               101.318781              107.738342\n",
       "std     2319.557287               170.939532              169.111983\n",
       "min       11.000000              -295.000000             -295.000000\n",
       "25%     1988.000000                -5.000000                4.000000\n",
       "50%     3037.000000                46.000000               51.000000\n",
       "75%     4414.000000               154.000000              157.000000\n",
       "max    19975.000000               900.000000              899.000000"
      ]
     },
     "execution_count": 30,
     "metadata": {},
     "output_type": "execute_result"
    }
   ],
   "source": [
    "data.describe()"
   ]
  },
  {
   "cell_type": "markdown",
   "metadata": {},
   "source": [
    "#### Use case: Trains going Luxembourg -> Liers"
   ]
  },
  {
   "cell_type": "code",
   "execution_count": 18,
   "metadata": {},
   "outputs": [],
   "source": [
    "luxembourg = data[data['Richting van de relatie'] == 'IC 33: LUXEMBOURG -> LIERS']"
   ]
  },
  {
   "cell_type": "code",
   "execution_count": 48,
   "metadata": {
    "collapsed": true
   },
   "outputs": [
    {
     "data": {
      "text/plain": [
       "0                          IC 33: LUXEMBOURG -> LIERS\n",
       "1                           L B6: AALST -> SCHAARBEEK\n",
       "2                          IC 33: LUXEMBOURG -> LIERS\n",
       "3                           L B6: AALST -> SCHAARBEEK\n",
       "4                          IC 33: LUXEMBOURG -> LIERS\n",
       "5                          IC 33: LUXEMBOURG -> LIERS\n",
       "6                         IC 03: GENK -> BLANKENBERGE\n",
       "7                         IC 03: GENK -> BLANKENBERGE\n",
       "8                         IC 03: GENK -> BLANKENBERGE\n",
       "9                         IC 03: GENK -> BLANKENBERGE\n",
       "10                        IC 03: GENK -> BLANKENBERGE\n",
       "11                        IC 03: GENK -> BLANKENBERGE\n",
       "12                        IC 03: GENK -> BLANKENBERGE\n",
       "13                        IC 03: GENK -> BLANKENBERGE\n",
       "14                        IC 03: GENK -> BLANKENBERGE\n",
       "15                        IC 03: GENK -> BLANKENBERGE\n",
       "16                        IC 03: GENK -> BLANKENBERGE\n",
       "17                        IC 03: GENK -> BLANKENBERGE\n",
       "18                        IC 03: GENK -> BLANKENBERGE\n",
       "19                        IC 03: GENK -> BLANKENBERGE\n",
       "20                        IC 03: GENK -> BLANKENBERGE\n",
       "21                        IC 03: GENK -> BLANKENBERGE\n",
       "22                        IC 03: GENK -> BLANKENBERGE\n",
       "23                        IC 03: GENK -> BLANKENBERGE\n",
       "25                          L B6: AALST -> SCHAARBEEK\n",
       "26                         IC 33: LIERS -> LUXEMBOURG\n",
       "27                          L B6: AALST -> SCHAARBEEK\n",
       "                             ...                     \n",
       "71690                  IC 12: WELKENRAEDT -> KORTRIJK\n",
       "71692           IC 10-1: ANTWERPEN-CENTRAAL -> HAMONT\n",
       "71693           IC 10-1: ANTWERPEN-CENTRAAL -> HAMONT\n",
       "71694           IC 10-1: ANTWERPEN-CENTRAAL -> HAMONT\n",
       "71695           IC 10-1: ANTWERPEN-CENTRAAL -> HAMONT\n",
       "71696           IC 10-1: ANTWERPEN-CENTRAAL -> HAMONT\n",
       "71698              IC 21: LEUVEN -> GENT-SINT-PIETERS\n",
       "71699              IC 21: LEUVEN -> GENT-SINT-PIETERS\n",
       "71700              IC 21: LEUVEN -> GENT-SINT-PIETERS\n",
       "71701              IC 21: LEUVEN -> GENT-SINT-PIETERS\n",
       "71702              IC 21: LEUVEN -> GENT-SINT-PIETERS\n",
       "71705                       IC 19-1: NAMUR -> TOURNAI\n",
       "71706                       IC 19-1: NAMUR -> TOURNAI\n",
       "71707                       IC 19-1: NAMUR -> TOURNAI\n",
       "71708          THAL: AMSTERDAM CENTRAAL -> PARIS-NORD\n",
       "71709          THAL: AMSTERDAM CENTRAAL -> PARIS-NORD\n",
       "71710          THAL: AMSTERDAM CENTRAAL -> PARIS-NORD\n",
       "71711          THAL: AMSTERDAM CENTRAAL -> PARIS-NORD\n",
       "71712          THAL: AMSTERDAM CENTRAAL -> PARIS-NORD\n",
       "71713          THAL: PARIS-NORD -> AMSTERDAM CENTRAAL\n",
       "71714          THAL: PARIS-NORD -> AMSTERDAM CENTRAAL\n",
       "71715          THAL: PARIS-NORD -> AMSTERDAM CENTRAAL\n",
       "71716          THAL: PARIS-NORD -> AMSTERDAM CENTRAAL\n",
       "71718    TGV: MARSEILLE-SAINT-CHARLES -> BRUSSEL-ZUID\n",
       "71721    TGV: MARSEILLE-SAINT-CHARLES -> BRUSSEL-ZUID\n",
       "71735                                             NaN\n",
       "71737                                             NaN\n",
       "Name: Richting van de relatie, Length: 63197, dtype: object"
      ]
     },
     "execution_count": 48,
     "metadata": {},
     "output_type": "execute_result"
    }
   ],
   "source": [
    "data['Richting van de relatie']"
   ]
  },
  {
   "cell_type": "code",
   "execution_count": 45,
   "metadata": {
    "collapsed": true
   },
   "outputs": [
    {
     "data": {
      "text/plain": [
       "<pandas.core.groupby.groupby.DataFrameGroupBy object at 0x000002283CD0CC88>"
      ]
     },
     "execution_count": 45,
     "metadata": {},
     "output_type": "execute_result"
    }
   ],
   "source": [
    "man = luxembourg.groupby('Treinnummer') \n",
    "\n",
    "man"
   ]
  },
  {
   "cell_type": "code",
   "execution_count": 46,
   "metadata": {
    "collapsed": true
   },
   "outputs": [
    {
     "data": {
      "text/plain": [
       "<pandas.core.groupby.groupby.SeriesGroupBy object at 0x000002283CD0C2B0>"
      ]
     },
     "execution_count": 46,
     "metadata": {},
     "output_type": "execute_result"
    }
   ],
   "source": [
    "luxembourg.groupby(['Treinnummer', 'Naam van de halte'])['Vertraging bij vertrek']"
   ]
  },
  {
   "cell_type": "code",
   "execution_count": 41,
   "metadata": {
    "collapsed": true
   },
   "outputs": [
    {
     "data": {
      "text/html": [
       "<div>\n",
       "<style scoped>\n",
       "    .dataframe tbody tr th:only-of-type {\n",
       "        vertical-align: middle;\n",
       "    }\n",
       "\n",
       "    .dataframe tbody tr th {\n",
       "        vertical-align: top;\n",
       "    }\n",
       "\n",
       "    .dataframe thead th {\n",
       "        text-align: right;\n",
       "    }\n",
       "</style>\n",
       "<table border=\"1\" class=\"dataframe\">\n",
       "  <thead>\n",
       "    <tr style=\"text-align: right;\">\n",
       "      <th></th>\n",
       "      <th>Vertraging bij aankomst</th>\n",
       "      <th>Vertraging bij vertrek</th>\n",
       "    </tr>\n",
       "    <tr>\n",
       "      <th>Treinnummer</th>\n",
       "      <th></th>\n",
       "      <th></th>\n",
       "    </tr>\n",
       "  </thead>\n",
       "  <tbody>\n",
       "    <tr>\n",
       "      <th>109</th>\n",
       "      <td>2015.0</td>\n",
       "      <td>2115.0</td>\n",
       "    </tr>\n",
       "    <tr>\n",
       "      <th>111</th>\n",
       "      <td>-80.0</td>\n",
       "      <td>120.0</td>\n",
       "    </tr>\n",
       "    <tr>\n",
       "      <th>113</th>\n",
       "      <td>1344.0</td>\n",
       "      <td>1217.0</td>\n",
       "    </tr>\n",
       "    <tr>\n",
       "      <th>115</th>\n",
       "      <td>-219.0</td>\n",
       "      <td>-137.0</td>\n",
       "    </tr>\n",
       "    <tr>\n",
       "      <th>117</th>\n",
       "      <td>-410.0</td>\n",
       "      <td>-283.0</td>\n",
       "    </tr>\n",
       "    <tr>\n",
       "      <th>119</th>\n",
       "      <td>455.0</td>\n",
       "      <td>280.0</td>\n",
       "    </tr>\n",
       "    <tr>\n",
       "      <th>121</th>\n",
       "      <td>4585.0</td>\n",
       "      <td>4601.0</td>\n",
       "    </tr>\n",
       "    <tr>\n",
       "      <th>123</th>\n",
       "      <td>3073.0</td>\n",
       "      <td>2845.0</td>\n",
       "    </tr>\n",
       "  </tbody>\n",
       "</table>\n",
       "</div>"
      ],
      "text/plain": [
       "             Vertraging bij aankomst  Vertraging bij vertrek\n",
       "Treinnummer                                                 \n",
       "109                           2015.0                  2115.0\n",
       "111                            -80.0                   120.0\n",
       "113                           1344.0                  1217.0\n",
       "115                           -219.0                  -137.0\n",
       "117                           -410.0                  -283.0\n",
       "119                            455.0                   280.0\n",
       "121                           4585.0                  4601.0\n",
       "123                           3073.0                  2845.0"
      ]
     },
     "execution_count": 41,
     "metadata": {},
     "output_type": "execute_result"
    }
   ],
   "source": [
    "suma = luxembourg.groupby('Treinnummer')[['Vertraging bij aankomst', 'Vertraging bij vertrek']].sum()\n",
    "\n",
    "suma"
   ]
  },
  {
   "cell_type": "code",
   "execution_count": 125,
   "metadata": {
    "collapsed": true
   },
   "outputs": [
    {
     "data": {
      "text/plain": [
       "0       NaN\n",
       "1       NaN\n",
       "2       NaN\n",
       "3       NaN\n",
       "4       NaN\n",
       "5       NaN\n",
       "6       NaN\n",
       "7       NaN\n",
       "8       NaN\n",
       "9       NaN\n",
       "10      NaN\n",
       "11      NaN\n",
       "12      NaN\n",
       "13      NaN\n",
       "14      NaN\n",
       "15      NaN\n",
       "16      NaN\n",
       "17      NaN\n",
       "18      NaN\n",
       "19      NaN\n",
       "20      NaN\n",
       "21      NaN\n",
       "22      NaN\n",
       "23      NaN\n",
       "25      NaN\n",
       "26      NaN\n",
       "27      NaN\n",
       "         ..\n",
       "71690   NaN\n",
       "71692   NaN\n",
       "71693   NaN\n",
       "71694   NaN\n",
       "71695   NaN\n",
       "71696   NaN\n",
       "71698   NaN\n",
       "71699   NaN\n",
       "71700   NaN\n",
       "71701   NaN\n",
       "71702   NaN\n",
       "71705   NaN\n",
       "71706   NaN\n",
       "71707   NaN\n",
       "71708   NaN\n",
       "71709   NaN\n",
       "71710   NaN\n",
       "71711   NaN\n",
       "71712   NaN\n",
       "71713   NaN\n",
       "71714   NaN\n",
       "71715   NaN\n",
       "71716   NaN\n",
       "71718   NaN\n",
       "71721   NaN\n",
       "71735   NaN\n",
       "71737   NaN\n",
       "Name: Vertraging bij aankomst, Length: 63197, dtype: float64"
      ]
     },
     "execution_count": 125,
     "metadata": {},
     "output_type": "execute_result"
    }
   ],
   "source": [
    "data['Vertraging bij aankomst']/suma['Vertraging bij aankomst']"
   ]
  },
  {
   "cell_type": "markdown",
   "metadata": {},
   "source": [
    "## 3) Grouping by the station of arrival and departure"
   ]
  },
  {
   "cell_type": "code",
   "execution_count": 41,
   "metadata": {},
   "outputs": [],
   "source": [
    "# Making a copy of the dataset\n",
    "data2 = data"
   ]
  },
  {
   "cell_type": "code",
   "execution_count": 42,
   "metadata": {},
   "outputs": [],
   "source": [
    "# separating the values in the column name \"Richting van de relatie\". We create two new columns, with the station of departure and arrival\n",
    "data2['richting_a'],  data2['richting_b'] = data2['Richting van de relatie'].str.split(\"->\").str"
   ]
  },
  {
   "cell_type": "code",
   "execution_count": 43,
   "metadata": {},
   "outputs": [],
   "source": [
    "# Making a third column for the name of the operator\n",
    "data2['operator'], data2['richting_a'] = data2['richting_a'].str.split(\":\").str"
   ]
  },
  {
   "cell_type": "code",
   "execution_count": 45,
   "metadata": {},
   "outputs": [
    {
     "data": {
      "text/html": [
       "<div>\n",
       "<style scoped>\n",
       "    .dataframe tbody tr th:only-of-type {\n",
       "        vertical-align: middle;\n",
       "    }\n",
       "\n",
       "    .dataframe tbody tr th {\n",
       "        vertical-align: top;\n",
       "    }\n",
       "\n",
       "    .dataframe thead th {\n",
       "        text-align: right;\n",
       "    }\n",
       "</style>\n",
       "<table border=\"1\" class=\"dataframe\">\n",
       "  <thead>\n",
       "    <tr style=\"text-align: right;\">\n",
       "      <th></th>\n",
       "      <th>Date van vertrek</th>\n",
       "      <th>Treinnummer</th>\n",
       "      <th>Relatie</th>\n",
       "      <th>Spoorwegoperatoren</th>\n",
       "      <th>Spoorlijn van vertrek</th>\n",
       "      <th>Uur van reële aankomst</th>\n",
       "      <th>Uur van reële vertrek</th>\n",
       "      <th>Uur van geplande aankomst</th>\n",
       "      <th>Uur van geplande vertrek</th>\n",
       "      <th>Vertraging bij aankomst</th>\n",
       "      <th>...</th>\n",
       "      <th>Richting van de relatie</th>\n",
       "      <th>Naam van de halte</th>\n",
       "      <th>Spoorlijn van aankomst</th>\n",
       "      <th>Datum van geplande aankomst</th>\n",
       "      <th>Datum van geplande vertrek</th>\n",
       "      <th>Datum van reële aankomst</th>\n",
       "      <th>Datum van reële vertrek</th>\n",
       "      <th>richting_a</th>\n",
       "      <th>richting_b</th>\n",
       "      <th>operator</th>\n",
       "    </tr>\n",
       "  </thead>\n",
       "  <tbody>\n",
       "    <tr>\n",
       "      <th>0</th>\n",
       "      <td>2019-06-13</td>\n",
       "      <td>115</td>\n",
       "      <td>IC 33</td>\n",
       "      <td>SNCB/NMBS</td>\n",
       "      <td>34</td>\n",
       "      <td>2019-06-25 16:08:02</td>\n",
       "      <td>2019-06-25 16:08:43</td>\n",
       "      <td>2019-06-25 16:08:00</td>\n",
       "      <td>2019-06-25 16:09:00</td>\n",
       "      <td>2.0</td>\n",
       "      <td>...</td>\n",
       "      <td>IC 33: LUXEMBOURG -&gt; LIERS</td>\n",
       "      <td>LIEGE-SAINT-LAMBERT</td>\n",
       "      <td>34</td>\n",
       "      <td>2019-06-13</td>\n",
       "      <td>2019-06-13</td>\n",
       "      <td>2019-06-13</td>\n",
       "      <td>2019-06-13</td>\n",
       "      <td>LUXEMBOURG</td>\n",
       "      <td>LIERS</td>\n",
       "      <td>IC 33</td>\n",
       "    </tr>\n",
       "    <tr>\n",
       "      <th>1</th>\n",
       "      <td>2019-06-13</td>\n",
       "      <td>1569</td>\n",
       "      <td>L B6</td>\n",
       "      <td>SNCB/NMBS</td>\n",
       "      <td>90</td>\n",
       "      <td>2019-06-25 19:56:36</td>\n",
       "      <td>2019-06-25 19:57:54</td>\n",
       "      <td>2019-06-25 19:55:00</td>\n",
       "      <td>2019-06-25 19:56:00</td>\n",
       "      <td>96.0</td>\n",
       "      <td>...</td>\n",
       "      <td>L B6: AALST -&gt; SCHAARBEEK</td>\n",
       "      <td>DENDERLEEUW</td>\n",
       "      <td>50</td>\n",
       "      <td>2019-06-13</td>\n",
       "      <td>2019-06-13</td>\n",
       "      <td>2019-06-13</td>\n",
       "      <td>2019-06-13</td>\n",
       "      <td>AALST</td>\n",
       "      <td>SCHAARBEEK</td>\n",
       "      <td>L B6</td>\n",
       "    </tr>\n",
       "  </tbody>\n",
       "</table>\n",
       "<p>2 rows × 21 columns</p>\n",
       "</div>"
      ],
      "text/plain": [
       "  Date van vertrek  Treinnummer Relatie Spoorwegoperatoren  \\\n",
       "0       2019-06-13          115   IC 33          SNCB/NMBS   \n",
       "1       2019-06-13         1569    L B6          SNCB/NMBS   \n",
       "\n",
       "  Spoorlijn van vertrek Uur van reële aankomst Uur van reële vertrek  \\\n",
       "0                    34    2019-06-25 16:08:02   2019-06-25 16:08:43   \n",
       "1                    90    2019-06-25 19:56:36   2019-06-25 19:57:54   \n",
       "\n",
       "  Uur van geplande aankomst Uur van geplande vertrek  Vertraging bij aankomst  \\\n",
       "0       2019-06-25 16:08:00      2019-06-25 16:09:00                      2.0   \n",
       "1       2019-06-25 19:55:00      2019-06-25 19:56:00                     96.0   \n",
       "\n",
       "    ...        Richting van de relatie    Naam van de halte  \\\n",
       "0   ...     IC 33: LUXEMBOURG -> LIERS  LIEGE-SAINT-LAMBERT   \n",
       "1   ...      L B6: AALST -> SCHAARBEEK          DENDERLEEUW   \n",
       "\n",
       "  Spoorlijn van aankomst Datum van geplande aankomst  \\\n",
       "0                     34                  2019-06-13   \n",
       "1                     50                  2019-06-13   \n",
       "\n",
       "  Datum van geplande vertrek Datum van reële aankomst Datum van reële vertrek  \\\n",
       "0                 2019-06-13               2019-06-13              2019-06-13   \n",
       "1                 2019-06-13               2019-06-13              2019-06-13   \n",
       "\n",
       "     richting_a   richting_b operator  \n",
       "0   LUXEMBOURG         LIERS    IC 33  \n",
       "1        AALST    SCHAARBEEK     L B6  \n",
       "\n",
       "[2 rows x 21 columns]"
      ]
     },
     "execution_count": 45,
     "metadata": {},
     "output_type": "execute_result"
    }
   ],
   "source": [
    "data2.head(2)"
   ]
  },
  {
   "cell_type": "code",
   "execution_count": 53,
   "metadata": {},
   "outputs": [
    {
     "data": {
      "text/html": [
       "<div>\n",
       "<style scoped>\n",
       "    .dataframe tbody tr th:only-of-type {\n",
       "        vertical-align: middle;\n",
       "    }\n",
       "\n",
       "    .dataframe tbody tr th {\n",
       "        vertical-align: top;\n",
       "    }\n",
       "\n",
       "    .dataframe thead th {\n",
       "        text-align: right;\n",
       "    }\n",
       "</style>\n",
       "<table border=\"1\" class=\"dataframe\">\n",
       "  <thead>\n",
       "    <tr style=\"text-align: right;\">\n",
       "      <th></th>\n",
       "      <th></th>\n",
       "      <th>richting_a</th>\n",
       "      <th>richting_b</th>\n",
       "      <th>Naam van de halte</th>\n",
       "    </tr>\n",
       "    <tr>\n",
       "      <th>richting_a</th>\n",
       "      <th>richting_b</th>\n",
       "      <th></th>\n",
       "      <th></th>\n",
       "      <th></th>\n",
       "    </tr>\n",
       "  </thead>\n",
       "  <tbody>\n",
       "    <tr>\n",
       "      <th>ANTWERPEN-CENTRAAL</th>\n",
       "      <th>NIVELLES</th>\n",
       "      <td>1052</td>\n",
       "      <td>1052</td>\n",
       "      <td>1052</td>\n",
       "    </tr>\n",
       "    <tr>\n",
       "      <th rowspan=\"2\" valign=\"top\">LIEGE-SAINT-LAMBERT</th>\n",
       "      <th>MONS</th>\n",
       "      <td>1018</td>\n",
       "      <td>1018</td>\n",
       "      <td>1018</td>\n",
       "    </tr>\n",
       "    <tr>\n",
       "      <th>BRUSSEL-ZUID</th>\n",
       "      <td>984</td>\n",
       "      <td>984</td>\n",
       "      <td>984</td>\n",
       "    </tr>\n",
       "    <tr>\n",
       "      <th>MONS</th>\n",
       "      <th>LIEGE-SAINT-LAMBERT</th>\n",
       "      <td>976</td>\n",
       "      <td>976</td>\n",
       "      <td>976</td>\n",
       "    </tr>\n",
       "    <tr>\n",
       "      <th>LUXEMBOURG</th>\n",
       "      <th>BRUSSEL-ZUID</th>\n",
       "      <td>966</td>\n",
       "      <td>966</td>\n",
       "      <td>966</td>\n",
       "    </tr>\n",
       "    <tr>\n",
       "      <th>NIVELLES</th>\n",
       "      <th>ANTWERPEN-CENTRAAL</th>\n",
       "      <td>966</td>\n",
       "      <td>966</td>\n",
       "      <td>966</td>\n",
       "    </tr>\n",
       "    <tr>\n",
       "      <th>BRUSSEL-ZUID</th>\n",
       "      <th>LIEGE-SAINT-LAMBERT</th>\n",
       "      <td>948</td>\n",
       "      <td>948</td>\n",
       "      <td>948</td>\n",
       "    </tr>\n",
       "    <tr>\n",
       "      <th>BRUSSELS AIRPORT - ZAVENTEM</th>\n",
       "      <th>OOSTENDE</th>\n",
       "      <td>913</td>\n",
       "      <td>913</td>\n",
       "      <td>913</td>\n",
       "    </tr>\n",
       "    <tr>\n",
       "      <th>LIEGE-GUILLEMINS</th>\n",
       "      <th>QUIEVRAIN</th>\n",
       "      <td>907</td>\n",
       "      <td>907</td>\n",
       "      <td>907</td>\n",
       "    </tr>\n",
       "    <tr>\n",
       "      <th>OOSTENDE</th>\n",
       "      <th>BRUSSELS AIRPORT - ZAVENTEM</th>\n",
       "      <td>897</td>\n",
       "      <td>897</td>\n",
       "      <td>897</td>\n",
       "    </tr>\n",
       "  </tbody>\n",
       "</table>\n",
       "</div>"
      ],
      "text/plain": [
       "                                                            richting_a  \\\n",
       "richting_a                    richting_b                                 \n",
       " ANTWERPEN-CENTRAAL            NIVELLES                           1052   \n",
       " LIEGE-SAINT-LAMBERT           MONS                               1018   \n",
       "                               BRUSSEL-ZUID                        984   \n",
       " MONS                          LIEGE-SAINT-LAMBERT                 976   \n",
       " LUXEMBOURG                    BRUSSEL-ZUID                        966   \n",
       " NIVELLES                      ANTWERPEN-CENTRAAL                  966   \n",
       " BRUSSEL-ZUID                  LIEGE-SAINT-LAMBERT                 948   \n",
       " BRUSSELS AIRPORT - ZAVENTEM   OOSTENDE                            913   \n",
       " LIEGE-GUILLEMINS              QUIEVRAIN                           907   \n",
       " OOSTENDE                      BRUSSELS AIRPORT - ZAVENTEM         897   \n",
       "\n",
       "                                                            richting_b  \\\n",
       "richting_a                    richting_b                                 \n",
       " ANTWERPEN-CENTRAAL            NIVELLES                           1052   \n",
       " LIEGE-SAINT-LAMBERT           MONS                               1018   \n",
       "                               BRUSSEL-ZUID                        984   \n",
       " MONS                          LIEGE-SAINT-LAMBERT                 976   \n",
       " LUXEMBOURG                    BRUSSEL-ZUID                        966   \n",
       " NIVELLES                      ANTWERPEN-CENTRAAL                  966   \n",
       " BRUSSEL-ZUID                  LIEGE-SAINT-LAMBERT                 948   \n",
       " BRUSSELS AIRPORT - ZAVENTEM   OOSTENDE                            913   \n",
       " LIEGE-GUILLEMINS              QUIEVRAIN                           907   \n",
       " OOSTENDE                      BRUSSELS AIRPORT - ZAVENTEM         897   \n",
       "\n",
       "                                                            Naam van de halte  \n",
       "richting_a                    richting_b                                       \n",
       " ANTWERPEN-CENTRAAL            NIVELLES                                  1052  \n",
       " LIEGE-SAINT-LAMBERT           MONS                                      1018  \n",
       "                               BRUSSEL-ZUID                               984  \n",
       " MONS                          LIEGE-SAINT-LAMBERT                        976  \n",
       " LUXEMBOURG                    BRUSSEL-ZUID                               966  \n",
       " NIVELLES                      ANTWERPEN-CENTRAAL                         966  \n",
       " BRUSSEL-ZUID                  LIEGE-SAINT-LAMBERT                        948  \n",
       " BRUSSELS AIRPORT - ZAVENTEM   OOSTENDE                                   913  \n",
       " LIEGE-GUILLEMINS              QUIEVRAIN                                  907  \n",
       " OOSTENDE                      BRUSSELS AIRPORT - ZAVENTEM                897  "
      ]
     },
     "execution_count": 53,
     "metadata": {},
     "output_type": "execute_result"
    }
   ],
   "source": [
    "#grouping first by the departure and afterwards by the arrival station\n",
    "\n",
    "group_a= data2.groupby(['richting_a', 'richting_b'])[['richting_a', 'richting_b', 'Naam van de halte']].count().sort_values(by= 'Naam van de halte', ascending= False)\n",
    "\n",
    "group_a.head(10)"
   ]
  },
  {
   "cell_type": "code",
   "execution_count": 61,
   "metadata": {
    "scrolled": true
   },
   "outputs": [
    {
     "data": {
      "text/html": [
       "<div>\n",
       "<style scoped>\n",
       "    .dataframe tbody tr th:only-of-type {\n",
       "        vertical-align: middle;\n",
       "    }\n",
       "\n",
       "    .dataframe tbody tr th {\n",
       "        vertical-align: top;\n",
       "    }\n",
       "\n",
       "    .dataframe thead th {\n",
       "        text-align: right;\n",
       "    }\n",
       "</style>\n",
       "<table border=\"1\" class=\"dataframe\">\n",
       "  <thead>\n",
       "    <tr style=\"text-align: right;\">\n",
       "      <th></th>\n",
       "      <th></th>\n",
       "      <th>richting_a</th>\n",
       "      <th>richting_b</th>\n",
       "    </tr>\n",
       "    <tr>\n",
       "      <th>richting_b</th>\n",
       "      <th>richting_a</th>\n",
       "      <th></th>\n",
       "      <th></th>\n",
       "    </tr>\n",
       "  </thead>\n",
       "  <tbody>\n",
       "    <tr>\n",
       "      <th>AACHEN HBF</th>\n",
       "      <th>SPA-GERONSTERE</th>\n",
       "      <td>15</td>\n",
       "      <td>15</td>\n",
       "    </tr>\n",
       "    <tr>\n",
       "      <th rowspan=\"3\" valign=\"top\">AALST</th>\n",
       "      <th>BRUSSEL-ZUID</th>\n",
       "      <td>270</td>\n",
       "      <td>270</td>\n",
       "    </tr>\n",
       "    <tr>\n",
       "      <th>SCHAARBEEK</th>\n",
       "      <td>459</td>\n",
       "      <td>459</td>\n",
       "    </tr>\n",
       "    <tr>\n",
       "      <th>VILVOORDE</th>\n",
       "      <td>265</td>\n",
       "      <td>265</td>\n",
       "    </tr>\n",
       "    <tr>\n",
       "      <th rowspan=\"2\" valign=\"top\">AMSTERDAM CENTRAAL</th>\n",
       "      <th>BRUSSEL-ZUID</th>\n",
       "      <td>333</td>\n",
       "      <td>333</td>\n",
       "    </tr>\n",
       "    <tr>\n",
       "      <th>PARIS-NORD</th>\n",
       "      <td>229</td>\n",
       "      <td>229</td>\n",
       "    </tr>\n",
       "    <tr>\n",
       "      <th rowspan=\"4\" valign=\"top\">ANTWERPEN-CENTRAAL</th>\n",
       "      <th>BRUSSEL-ZUID</th>\n",
       "      <td>354</td>\n",
       "      <td>354</td>\n",
       "    </tr>\n",
       "    <tr>\n",
       "      <th>DE PANNE</th>\n",
       "      <td>425</td>\n",
       "      <td>425</td>\n",
       "    </tr>\n",
       "    <tr>\n",
       "      <th>HAMONT</th>\n",
       "      <td>281</td>\n",
       "      <td>281</td>\n",
       "    </tr>\n",
       "    <tr>\n",
       "      <th>HASSELT</th>\n",
       "      <td>509</td>\n",
       "      <td>509</td>\n",
       "    </tr>\n",
       "  </tbody>\n",
       "</table>\n",
       "</div>"
      ],
      "text/plain": [
       "                                      richting_a  richting_b\n",
       "richting_b          richting_a                              \n",
       " AACHEN HBF          SPA-GERONSTERE           15          15\n",
       " AALST               BRUSSEL-ZUID            270         270\n",
       "                     SCHAARBEEK              459         459\n",
       "                     VILVOORDE               265         265\n",
       " AMSTERDAM CENTRAAL  BRUSSEL-ZUID            333         333\n",
       "                     PARIS-NORD              229         229\n",
       " ANTWERPEN-CENTRAAL  BRUSSEL-ZUID            354         354\n",
       "                     DE PANNE                425         425\n",
       "                     HAMONT                  281         281\n",
       "                     HASSELT                 509         509"
      ]
     },
     "execution_count": 61,
     "metadata": {},
     "output_type": "execute_result"
    }
   ],
   "source": [
    "#grouping first by the arrival and afterwards by the departure station\n",
    "\n",
    "group_b =  data2.groupby(['richting_b', 'richting_a'])[['richting_a', 'richting_b']].count()\n",
    "\n",
    "group_b.head(10)"
   ]
  },
  {
   "cell_type": "code",
   "execution_count": 58,
   "metadata": {},
   "outputs": [
    {
     "data": {
      "text/html": [
       "<div>\n",
       "<style scoped>\n",
       "    .dataframe tbody tr th:only-of-type {\n",
       "        vertical-align: middle;\n",
       "    }\n",
       "\n",
       "    .dataframe tbody tr th {\n",
       "        vertical-align: top;\n",
       "    }\n",
       "\n",
       "    .dataframe thead th {\n",
       "        text-align: right;\n",
       "    }\n",
       "</style>\n",
       "<table border=\"1\" class=\"dataframe\">\n",
       "  <thead>\n",
       "    <tr style=\"text-align: right;\">\n",
       "      <th></th>\n",
       "      <th>richting_a</th>\n",
       "      <th>richting_b</th>\n",
       "    </tr>\n",
       "  </thead>\n",
       "  <tbody>\n",
       "    <tr>\n",
       "      <th>count</th>\n",
       "      <td>80.000000</td>\n",
       "      <td>80.000000</td>\n",
       "    </tr>\n",
       "    <tr>\n",
       "      <th>mean</th>\n",
       "      <td>725.950000</td>\n",
       "      <td>725.950000</td>\n",
       "    </tr>\n",
       "    <tr>\n",
       "      <th>std</th>\n",
       "      <td>822.859016</td>\n",
       "      <td>822.859016</td>\n",
       "    </tr>\n",
       "    <tr>\n",
       "      <th>min</th>\n",
       "      <td>6.000000</td>\n",
       "      <td>6.000000</td>\n",
       "    </tr>\n",
       "    <tr>\n",
       "      <th>25%</th>\n",
       "      <td>197.250000</td>\n",
       "      <td>197.250000</td>\n",
       "    </tr>\n",
       "    <tr>\n",
       "      <th>50%</th>\n",
       "      <td>494.000000</td>\n",
       "      <td>494.000000</td>\n",
       "    </tr>\n",
       "    <tr>\n",
       "      <th>75%</th>\n",
       "      <td>928.750000</td>\n",
       "      <td>928.750000</td>\n",
       "    </tr>\n",
       "    <tr>\n",
       "      <th>max</th>\n",
       "      <td>4451.000000</td>\n",
       "      <td>4451.000000</td>\n",
       "    </tr>\n",
       "  </tbody>\n",
       "</table>\n",
       "</div>"
      ],
      "text/plain": [
       "        richting_a   richting_b\n",
       "count    80.000000    80.000000\n",
       "mean    725.950000   725.950000\n",
       "std     822.859016   822.859016\n",
       "min       6.000000     6.000000\n",
       "25%     197.250000   197.250000\n",
       "50%     494.000000   494.000000\n",
       "75%     928.750000   928.750000\n",
       "max    4451.000000  4451.000000"
      ]
     },
     "execution_count": 58,
     "metadata": {},
     "output_type": "execute_result"
    }
   ],
   "source": [
    "#grouping only by the departure station\n",
    "\n",
    "group_c =  data2.groupby(['richting_b'])[['richting_a', 'richting_b']].count()\n",
    "group_c.describe()"
   ]
  },
  {
   "cell_type": "markdown",
   "metadata": {
    "collapsed": true
   },
   "source": [
    "Below we observe that the station with more departures and final arrivals is Antwerpen-Centraal, counting 4451. It is followed by Brussels-Zuid (3770), Leuven (2711) and the two airports near Brussels, Zaventem and Charleroi."
   ]
  },
  {
   "cell_type": "code",
   "execution_count": 137,
   "metadata": {
    "scrolled": true
   },
   "outputs": [
    {
     "name": "stderr",
     "output_type": "stream",
     "text": [
      "C:\\anaconda\\lib\\site-packages\\ipykernel_launcher.py:1: FutureWarning: 'richting_b' is both an index level and a column label.\n",
      "Defaulting to column, but this will raise an ambiguity error in a future version\n",
      "  \"\"\"Entry point for launching an IPython kernel.\n"
     ]
    },
    {
     "data": {
      "text/html": [
       "<div>\n",
       "<style scoped>\n",
       "    .dataframe tbody tr th:only-of-type {\n",
       "        vertical-align: middle;\n",
       "    }\n",
       "\n",
       "    .dataframe tbody tr th {\n",
       "        vertical-align: top;\n",
       "    }\n",
       "\n",
       "    .dataframe thead th {\n",
       "        text-align: right;\n",
       "    }\n",
       "</style>\n",
       "<table border=\"1\" class=\"dataframe\">\n",
       "  <thead>\n",
       "    <tr style=\"text-align: right;\">\n",
       "      <th></th>\n",
       "      <th>richting_a</th>\n",
       "      <th>richting_b</th>\n",
       "    </tr>\n",
       "    <tr>\n",
       "      <th>richting_b</th>\n",
       "      <th></th>\n",
       "      <th></th>\n",
       "    </tr>\n",
       "  </thead>\n",
       "  <tbody>\n",
       "    <tr>\n",
       "      <th>ANTWERPEN-CENTRAAL</th>\n",
       "      <td>4451</td>\n",
       "      <td>4451</td>\n",
       "    </tr>\n",
       "    <tr>\n",
       "      <th>BRUSSEL-ZUID</th>\n",
       "      <td>3770</td>\n",
       "      <td>3770</td>\n",
       "    </tr>\n",
       "    <tr>\n",
       "      <th>LEUVEN</th>\n",
       "      <td>2711</td>\n",
       "      <td>2711</td>\n",
       "    </tr>\n",
       "    <tr>\n",
       "      <th>BRUSSELS AIRPORT - ZAVENTEM</th>\n",
       "      <td>2588</td>\n",
       "      <td>2588</td>\n",
       "    </tr>\n",
       "    <tr>\n",
       "      <th>CHARLEROI-SUD</th>\n",
       "      <td>2238</td>\n",
       "      <td>2238</td>\n",
       "    </tr>\n",
       "    <tr>\n",
       "      <th>OOSTENDE</th>\n",
       "      <td>2091</td>\n",
       "      <td>2091</td>\n",
       "    </tr>\n",
       "    <tr>\n",
       "      <th>LIEGE-SAINT-LAMBERT</th>\n",
       "      <td>1924</td>\n",
       "      <td>1924</td>\n",
       "    </tr>\n",
       "    <tr>\n",
       "      <th>GENT-SINT-PIETERS</th>\n",
       "      <td>1851</td>\n",
       "      <td>1851</td>\n",
       "    </tr>\n",
       "    <tr>\n",
       "      <th>MONS</th>\n",
       "      <td>1699</td>\n",
       "      <td>1699</td>\n",
       "    </tr>\n",
       "    <tr>\n",
       "      <th>NAMUR</th>\n",
       "      <td>1635</td>\n",
       "      <td>1635</td>\n",
       "    </tr>\n",
       "    <tr>\n",
       "      <th>KORTRIJK</th>\n",
       "      <td>1360</td>\n",
       "      <td>1360</td>\n",
       "    </tr>\n",
       "    <tr>\n",
       "      <th>MECHELEN</th>\n",
       "      <td>1329</td>\n",
       "      <td>1329</td>\n",
       "    </tr>\n",
       "    <tr>\n",
       "      <th>ESSEN</th>\n",
       "      <td>1305</td>\n",
       "      <td>1305</td>\n",
       "    </tr>\n",
       "    <tr>\n",
       "      <th>TOURNAI</th>\n",
       "      <td>1297</td>\n",
       "      <td>1297</td>\n",
       "    </tr>\n",
       "    <tr>\n",
       "      <th>OTTIGNIES</th>\n",
       "      <td>1282</td>\n",
       "      <td>1282</td>\n",
       "    </tr>\n",
       "    <tr>\n",
       "      <th>LIEGE-GUILLEMINS</th>\n",
       "      <td>1273</td>\n",
       "      <td>1273</td>\n",
       "    </tr>\n",
       "    <tr>\n",
       "      <th>LUXEMBOURG</th>\n",
       "      <td>1068</td>\n",
       "      <td>1068</td>\n",
       "    </tr>\n",
       "    <tr>\n",
       "      <th>NIVELLES</th>\n",
       "      <td>1052</td>\n",
       "      <td>1052</td>\n",
       "    </tr>\n",
       "    <tr>\n",
       "      <th>HASSELT</th>\n",
       "      <td>1005</td>\n",
       "      <td>1005</td>\n",
       "    </tr>\n",
       "    <tr>\n",
       "      <th>AALST</th>\n",
       "      <td>994</td>\n",
       "      <td>994</td>\n",
       "    </tr>\n",
       "    <tr>\n",
       "      <th>QUIEVRAIN</th>\n",
       "      <td>907</td>\n",
       "      <td>907</td>\n",
       "    </tr>\n",
       "    <tr>\n",
       "      <th>BRAINE-LE-COMTE</th>\n",
       "      <td>896</td>\n",
       "      <td>896</td>\n",
       "    </tr>\n",
       "    <tr>\n",
       "      <th>SINT-NIKLAAS</th>\n",
       "      <td>848</td>\n",
       "      <td>848</td>\n",
       "    </tr>\n",
       "    <tr>\n",
       "      <th>TURNHOUT</th>\n",
       "      <td>719</td>\n",
       "      <td>719</td>\n",
       "    </tr>\n",
       "    <tr>\n",
       "      <th>EUPEN</th>\n",
       "      <td>683</td>\n",
       "      <td>683</td>\n",
       "    </tr>\n",
       "    <tr>\n",
       "      <th>LIERS</th>\n",
       "      <td>658</td>\n",
       "      <td>658</td>\n",
       "    </tr>\n",
       "    <tr>\n",
       "      <th>TONGEREN</th>\n",
       "      <td>650</td>\n",
       "      <td>650</td>\n",
       "    </tr>\n",
       "    <tr>\n",
       "      <th>...</th>\n",
       "      <td>...</td>\n",
       "      <td>...</td>\n",
       "    </tr>\n",
       "    <tr>\n",
       "      <th>RONSE</th>\n",
       "      <td>250</td>\n",
       "      <td>250</td>\n",
       "    </tr>\n",
       "    <tr>\n",
       "      <th>LOUVAIN-LA-NEUVE</th>\n",
       "      <td>249</td>\n",
       "      <td>249</td>\n",
       "    </tr>\n",
       "    <tr>\n",
       "      <th>CINEY</th>\n",
       "      <td>238</td>\n",
       "      <td>238</td>\n",
       "    </tr>\n",
       "    <tr>\n",
       "      <th>EEKLO</th>\n",
       "      <td>236</td>\n",
       "      <td>236</td>\n",
       "    </tr>\n",
       "    <tr>\n",
       "      <th>HALLE</th>\n",
       "      <td>221</td>\n",
       "      <td>221</td>\n",
       "    </tr>\n",
       "    <tr>\n",
       "      <th>QUEVY</th>\n",
       "      <td>215</td>\n",
       "      <td>215</td>\n",
       "    </tr>\n",
       "    <tr>\n",
       "      <th>MAASTRICHT</th>\n",
       "      <td>201</td>\n",
       "      <td>201</td>\n",
       "    </tr>\n",
       "    <tr>\n",
       "      <th>LUTTRE</th>\n",
       "      <td>186</td>\n",
       "      <td>186</td>\n",
       "    </tr>\n",
       "    <tr>\n",
       "      <th>LA LOUVIERE-SUD</th>\n",
       "      <td>163</td>\n",
       "      <td>163</td>\n",
       "    </tr>\n",
       "    <tr>\n",
       "      <th>ERQUELINNES</th>\n",
       "      <td>150</td>\n",
       "      <td>150</td>\n",
       "    </tr>\n",
       "    <tr>\n",
       "      <th>FLEMALLE-HAUTE</th>\n",
       "      <td>138</td>\n",
       "      <td>138</td>\n",
       "    </tr>\n",
       "    <tr>\n",
       "      <th>FRANKFURT(MAIN) HBF</th>\n",
       "      <td>133</td>\n",
       "      <td>133</td>\n",
       "    </tr>\n",
       "    <tr>\n",
       "      <th>HERSTAL</th>\n",
       "      <td>128</td>\n",
       "      <td>128</td>\n",
       "    </tr>\n",
       "    <tr>\n",
       "      <th>VERVIERS-CENTRAL</th>\n",
       "      <td>128</td>\n",
       "      <td>128</td>\n",
       "    </tr>\n",
       "    <tr>\n",
       "      <th>WAREMME</th>\n",
       "      <td>125</td>\n",
       "      <td>125</td>\n",
       "    </tr>\n",
       "    <tr>\n",
       "      <th>BRUGGE</th>\n",
       "      <td>122</td>\n",
       "      <td>122</td>\n",
       "    </tr>\n",
       "    <tr>\n",
       "      <th>COUVIN</th>\n",
       "      <td>117</td>\n",
       "      <td>117</td>\n",
       "    </tr>\n",
       "    <tr>\n",
       "      <th>ARLON</th>\n",
       "      <td>115</td>\n",
       "      <td>115</td>\n",
       "    </tr>\n",
       "    <tr>\n",
       "      <th>KOLN HBF</th>\n",
       "      <td>85</td>\n",
       "      <td>85</td>\n",
       "    </tr>\n",
       "    <tr>\n",
       "      <th>LONDON-ST-PANCRAS INTL</th>\n",
       "      <td>60</td>\n",
       "      <td>60</td>\n",
       "    </tr>\n",
       "    <tr>\n",
       "      <th>JURBISE</th>\n",
       "      <td>56</td>\n",
       "      <td>56</td>\n",
       "    </tr>\n",
       "    <tr>\n",
       "      <th>LILLE FLANDRES</th>\n",
       "      <td>48</td>\n",
       "      <td>48</td>\n",
       "    </tr>\n",
       "    <tr>\n",
       "      <th>ERQUELINNES-FRONTIERE</th>\n",
       "      <td>22</td>\n",
       "      <td>22</td>\n",
       "    </tr>\n",
       "    <tr>\n",
       "      <th>AACHEN HBF</th>\n",
       "      <td>15</td>\n",
       "      <td>15</td>\n",
       "    </tr>\n",
       "    <tr>\n",
       "      <th>SPA-GERONSTERE</th>\n",
       "      <td>15</td>\n",
       "      <td>15</td>\n",
       "    </tr>\n",
       "    <tr>\n",
       "      <th>MARSEILLE-SAINT-CHARLES</th>\n",
       "      <td>8</td>\n",
       "      <td>8</td>\n",
       "    </tr>\n",
       "    <tr>\n",
       "      <th>QUEVY-FRONTIERE</th>\n",
       "      <td>6</td>\n",
       "      <td>6</td>\n",
       "    </tr>\n",
       "  </tbody>\n",
       "</table>\n",
       "<p>80 rows × 2 columns</p>\n",
       "</div>"
      ],
      "text/plain": [
       "                              richting_a  richting_b\n",
       "richting_b                                          \n",
       " ANTWERPEN-CENTRAAL                 4451        4451\n",
       " BRUSSEL-ZUID                       3770        3770\n",
       " LEUVEN                             2711        2711\n",
       " BRUSSELS AIRPORT - ZAVENTEM        2588        2588\n",
       " CHARLEROI-SUD                      2238        2238\n",
       " OOSTENDE                           2091        2091\n",
       " LIEGE-SAINT-LAMBERT                1924        1924\n",
       " GENT-SINT-PIETERS                  1851        1851\n",
       " MONS                               1699        1699\n",
       " NAMUR                              1635        1635\n",
       " KORTRIJK                           1360        1360\n",
       " MECHELEN                           1329        1329\n",
       " ESSEN                              1305        1305\n",
       " TOURNAI                            1297        1297\n",
       " OTTIGNIES                          1282        1282\n",
       " LIEGE-GUILLEMINS                   1273        1273\n",
       " LUXEMBOURG                         1068        1068\n",
       " NIVELLES                           1052        1052\n",
       " HASSELT                            1005        1005\n",
       " AALST                               994         994\n",
       " QUIEVRAIN                           907         907\n",
       " BRAINE-LE-COMTE                     896         896\n",
       " SINT-NIKLAAS                        848         848\n",
       " TURNHOUT                            719         719\n",
       " EUPEN                               683         683\n",
       " LIERS                               658         658\n",
       " TONGEREN                            650         650\n",
       "...                                  ...         ...\n",
       " RONSE                               250         250\n",
       " LOUVAIN-LA-NEUVE                    249         249\n",
       " CINEY                               238         238\n",
       " EEKLO                               236         236\n",
       " HALLE                               221         221\n",
       " QUEVY                               215         215\n",
       " MAASTRICHT                          201         201\n",
       " LUTTRE                              186         186\n",
       " LA LOUVIERE-SUD                     163         163\n",
       " ERQUELINNES                         150         150\n",
       " FLEMALLE-HAUTE                      138         138\n",
       " FRANKFURT(MAIN) HBF                 133         133\n",
       " HERSTAL                             128         128\n",
       " VERVIERS-CENTRAL                    128         128\n",
       " WAREMME                             125         125\n",
       " BRUGGE                              122         122\n",
       " COUVIN                              117         117\n",
       " ARLON                               115         115\n",
       " KOLN HBF                             85          85\n",
       " LONDON-ST-PANCRAS INTL               60          60\n",
       " JURBISE                              56          56\n",
       " LILLE FLANDRES                       48          48\n",
       " ERQUELINNES-FRONTIERE                22          22\n",
       " AACHEN HBF                           15          15\n",
       " SPA-GERONSTERE                       15          15\n",
       " MARSEILLE-SAINT-CHARLES               8           8\n",
       " QUEVY-FRONTIERE                       6           6\n",
       "\n",
       "[80 rows x 2 columns]"
      ]
     },
     "execution_count": 137,
     "metadata": {},
     "output_type": "execute_result"
    }
   ],
   "source": [
    "group_c.sort_values(by = ['richting_a', 'richting_b'], ascending= False)"
   ]
  },
  {
   "cell_type": "code",
   "execution_count": 143,
   "metadata": {},
   "outputs": [],
   "source": [
    "#Link with the file of importannt stations\n",
    "\n",
    "import re"
   ]
  },
  {
   "cell_type": "code",
   "execution_count": 144,
   "metadata": {},
   "outputs": [],
   "source": [
    "group_c.richting_a.nunique()\n",
    "\n",
    "\n",
    "import re\n",
    "def split_it(year):\n",
    "    x = re.findall('brussel^', brussel)\n",
    "    if x :\n",
    "      return(x.group())\n",
    "\n"
   ]
  },
  {
   "cell_type": "code",
   "execution_count": null,
   "metadata": {
    "scrolled": true
   },
   "outputs": [],
   "source": []
  },
  {
   "cell_type": "code",
   "execution_count": 147,
   "metadata": {},
   "outputs": [],
   "source": [
    "group_c['brussel'] = group_c.richting_a\n",
    "\n",
    "#group_c.richting_a.apply(split_it)"
   ]
  },
  {
   "cell_type": "code",
   "execution_count": null,
   "metadata": {},
   "outputs": [],
   "source": []
  },
  {
   "cell_type": "code",
   "execution_count": null,
   "metadata": {},
   "outputs": [],
   "source": []
  },
  {
   "cell_type": "code",
   "execution_count": null,
   "metadata": {},
   "outputs": [],
   "source": []
  },
  {
   "cell_type": "code",
   "execution_count": null,
   "metadata": {},
   "outputs": [],
   "source": []
  },
  {
   "cell_type": "code",
   "execution_count": null,
   "metadata": {},
   "outputs": [],
   "source": []
  },
  {
   "cell_type": "code",
   "execution_count": null,
   "metadata": {},
   "outputs": [],
   "source": []
  },
  {
   "cell_type": "code",
   "execution_count": null,
   "metadata": {},
   "outputs": [],
   "source": []
  },
  {
   "cell_type": "code",
   "execution_count": null,
   "metadata": {},
   "outputs": [],
   "source": []
  },
  {
   "cell_type": "code",
   "execution_count": null,
   "metadata": {},
   "outputs": [],
   "source": []
  },
  {
   "cell_type": "code",
   "execution_count": null,
   "metadata": {},
   "outputs": [],
   "source": []
  },
  {
   "cell_type": "code",
   "execution_count": null,
   "metadata": {},
   "outputs": [],
   "source": []
  }
 ],
 "metadata": {
  "kernelspec": {
   "display_name": "Python 3",
   "language": "python",
   "name": "python3"
  },
  "language_info": {
   "codemirror_mode": {
    "name": "ipython",
    "version": 3
   },
   "file_extension": ".py",
   "mimetype": "text/x-python",
   "name": "python",
   "nbconvert_exporter": "python",
   "pygments_lexer": "ipython3",
   "version": "3.6.5"
  }
 },
 "nbformat": 4,
 "nbformat_minor": 2
}
